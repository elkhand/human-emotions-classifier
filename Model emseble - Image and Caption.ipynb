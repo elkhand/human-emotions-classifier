{
 "cells": [
  {
   "cell_type": "markdown",
   "metadata": {},
   "source": [
    "# Emsebling Image and Caption mdoel resutls during prediction time"
   ]
  },
  {
   "cell_type": "code",
   "execution_count": 16,
   "metadata": {},
   "outputs": [
    {
     "name": "stdout",
     "output_type": "stream",
     "text": [
      "None\n"
     ]
    },
    {
     "name": "stderr",
     "output_type": "stream",
     "text": [
      "Using TensorFlow backend.\n"
     ]
    }
   ],
   "source": [
    "import numpy as np\n",
    "import ast\n",
    "from sklearn.metrics import f1_score\n",
    "import hecutils.plotting_utils as pt\n",
    "import hecutils.image_utils as imut"
   ]
  },
  {
   "cell_type": "markdown",
   "metadata": {},
   "source": [
    "## Caption prediction results"
   ]
  },
  {
   "cell_type": "code",
   "execution_count": 18,
   "metadata": {
    "scrolled": false
   },
   "outputs": [
    {
     "name": "stdout",
     "output_type": "stream",
     "text": [
      "{'Alcohol 7.jpg': array([0.97, 0.01, 0.02]), 'Bungee jumping 3.jpg': array([0.19, 0.81, 0.  ]), 'Camping 3.jpg': array([0.55, 0.45, 0.  ]), 'Camping 8.jpg': array([0.12, 0.88, 0.  ]), 'Camping 9.jpg': array([0.98, 0.01, 0.02]), 'Car accident 1.jpg': array([0.4 , 0.01, 0.58]), 'Child labor 1.jpg': array([0.29, 0.66, 0.05]), 'Coffee 1.jpg': array([0.04, 0.96, 0.  ]), 'Cold 7.jpg': array([0.89, 0.02, 0.09]), 'Couple 4.jpg': array([6.59e-02, 9.33e-01, 9.31e-04]), 'Couple 8.jpg': array([0.13, 0.86, 0.01]), 'Crosswalk 1.jpg': array([0.45, 0.19, 0.36]), 'Cups 1.jpg': array([0.57, 0.39, 0.03]), 'Cups 4.jpg': array([0.88, 0.09, 0.03]), 'Dancing 7.jpg': array([0.52, 0.48, 0.01]), 'Dead bodies 3.jpg': array([0.16, 0.04, 0.8 ]), 'Depressed pose 3.jpg': array([0.47, 0.49, 0.03]), 'Dessert 3.jpg': array([1.17e-02, 9.88e-01, 4.38e-04]), 'Doctor 3.jpg': array([0.95, 0.04, 0.01]), 'Dog 3.jpg': array([0.25, 0.67, 0.08]), 'Dog 6.jpg': array([0.04, 0.96, 0.  ]), 'Dog 11.jpg': array([0.24, 0.75, 0.  ]), 'Dog 19.jpg': array([0.32, 0.3 , 0.38]), 'Dog 20.jpg': array([0.49, 0.29, 0.23]), 'Dog 31.jpg': array([0.56, 0.28, 0.16]), 'Fire hydrant 1.jpg': array([0.74, 0.08, 0.18]), 'Flowers 7.jpg': array([2.14e-02, 9.78e-01, 8.44e-04]), 'Flowers 10.jpg': array([0.14, 0.85, 0.  ]), 'Food 1.jpg': array([0.24, 0.29, 0.47]), 'Food 5.jpg': array([0.55, 0.13, 0.32]), 'Frustrated pose 1.jpg': array([0.29, 0.44, 0.28]), 'Frustrated pose 2.jpg': array([0.44, 0.21, 0.35]), 'Funeral 1.jpg': array([0.6 , 0.13, 0.27]), 'Gazing 6.jpg': array([0.17, 0.83, 0.  ]), 'Graveyard 1.jpg': array([0.2 , 0.76, 0.05]), 'Gun 9.jpg': array([0.15, 0.  , 0.84]), 'Hangover 1.jpg': array([0.75, 0.  , 0.24]), 'House 1.jpg': array([0.98, 0.01, 0.01]), 'KKK rally 2.jpg': array([0.16, 0.01, 0.83]), 'Lightning 2.jpg': array([0.99, 0.  , 0.01]), 'Meerkat 1.jpg': array([0.1 , 0.02, 0.88]), 'Memorial 3.jpg': array([0.65, 0.02, 0.33]), 'Miserable pose 5.jpg': array([0.25, 0.13, 0.62]), 'Monkey 1.jpg': array([0.45, 0.15, 0.4 ]), 'Mother 3.jpg': array([0.38, 0.47, 0.15]), 'Mother 6.jpg': array([1.37e-02, 9.85e-01, 8.76e-04]), 'Nude couple 12.jpg': array([0.09, 0.9 , 0.  ]), 'Nude man 8.jpg': array([0.72, 0.28, 0.01]), 'Nude woman 5.jpg': array([0.25, 0.75, 0.01]), 'Nude woman 14.jpg': array([0.23, 0.7 , 0.07]), 'BDSM 3.jpg': array([0.17, 0.83, 0.  ]), 'Nude woman 19.jpg': array([0.94, 0.01, 0.04]), 'Paperclips 3.jpg': array([0.77, 0.06, 0.17]), 'Paperclips 4.jpg': array([0.56, 0.17, 0.26]), 'Penguins 2.jpg': array([0.04, 0.96, 0.  ]), 'Picnic 1.jpg': array([0.04, 0.95, 0.01]), 'Pigeon 2.jpg': array([0.17, 0.04, 0.8 ]), 'Police 3.jpg': array([0.92, 0.08, 0.  ]), 'Present 1.jpg': array([1.05e-02, 9.89e-01, 3.06e-04]), 'Rafting 2.jpg': array([0.73, 0.25, 0.02]), 'Rafting 6.jpg': array([0.54, 0.45, 0.  ]), 'Rocks 4.jpg': array([0.89, 0.05, 0.05]), 'Rocks 5.jpg': array([0.92, 0.07, 0.01]), 'Roofing 1.jpg': array([0.88, 0.02, 0.1 ]), 'Sad pose 3.jpg': array([0.54, 0.19, 0.27]), 'Sad pose 5.jpg': array([0.67, 0.04, 0.29]), 'Scared cat 1.jpg': array([0.3 , 0.7 , 0.01]), 'School 5.jpg': array([0.84, 0.09, 0.07]), 'Shark 10.jpg': array([0.82, 0.06, 0.12]), 'Shot 4.jpg': array([0.25, 0.  , 0.74]), 'Shot 5.jpg': array([0.75, 0.02, 0.22]), 'Sidewalk 6.jpg': array([0.42, 0.47, 0.11]), 'Bird 2.jpg': array([0.35, 0.37, 0.28]), 'Bird 3.jpg': array([0.1 , 0.89, 0.  ]), 'Smiling face 1.jpg': array([0.2, 0.8, 0. ]), 'Bird 5.jpg': array([0.44, 0.2 , 0.35]), 'Soldiers 2.jpg': array([0.94, 0.01, 0.05]), 'Soldiers 7.jpg': array([0.84, 0.03, 0.13]), 'Statue 1.jpg': array([2.70e-02, 9.72e-01, 6.49e-04]), 'Stingray 1.jpg': array([0.11, 0.88, 0.01]), 'Storage 2.jpg': array([0.88, 0.04, 0.08]), 'Surgery 4.jpg': array([0.81, 0.02, 0.17]), 'Swimming 1.jpg': array([0.51, 0.48, 0.01]), 'Thunderstorm 5.jpg': array([0.86, 0.14, 0.  ]), 'Tornado 3.jpg': array([0.15, 0.02, 0.84]), 'War 3.jpg': array([0.72, 0.04, 0.24]), 'Wedding 4.jpg': array([0.09, 0.91, 0.  ]), 'Wedding 5.jpg': array([3.22e-02, 9.67e-01, 5.15e-04]), 'Wedding 12.jpg': array([0.91, 0.08, 0.  ]), 'Bricks 1.jpg': array([0.87, 0.04, 0.08])}\n"
     ]
    }
   ],
   "source": [
    "# From Captions Predictions\n",
    "\n",
    "caption_class_to_index = {0: 0, 1: 1, -1: 2}\n",
    "\n",
    "# From Image captions\n",
    "# 0 index: neutral\n",
    "# 1 index: positive\n",
    "# 2 index negative\n",
    "\n",
    "imgToPredictionFromCaptions= {'Alcohol 7.jpg': np.array([0.97, 0.01, 0.02], dtype=float), 'Bungee jumping 3.jpg': np.array([0.19, 0.81, 0.  ], dtype=float), 'Camping 3.jpg': np.array([0.55, 0.45, 0.  ], dtype=float), 'Camping 8.jpg': np.array([0.12, 0.88, 0.  ], dtype=float), 'Camping 9.jpg': np.array([0.98, 0.01, 0.02], dtype=float), 'Car accident 1.jpg': np.array([0.4 , 0.01, 0.58], dtype=float), 'Child labor 1.jpg': np.array([0.29, 0.66, 0.05], dtype=float), 'Coffee 1.jpg': np.array([0.04, 0.96, 0.  ], dtype=float), 'Cold 7.jpg': np.array([0.89, 0.02, 0.09], dtype=float), 'Couple 4.jpg': np.array([6.59e-02, 9.33e-01, 9.31e-04], dtype=float), 'Couple 8.jpg': np.array([0.13, 0.86, 0.01], dtype=float), 'Crosswalk 1.jpg': np.array([0.45, 0.19, 0.36], dtype=float), 'Cups 1.jpg': np.array([0.57, 0.39, 0.03], dtype=float), 'Cups 4.jpg': np.array([0.88, 0.09, 0.03], dtype=float), 'Dancing 7.jpg': np.array([0.52, 0.48, 0.01], dtype=float), 'Dead bodies 3.jpg': np.array([0.16, 0.04, 0.8 ], dtype=float), 'Depressed pose 3.jpg': np.array([0.47, 0.49, 0.03], dtype=float), 'Dessert 3.jpg': np.array([1.17e-02, 9.88e-01, 4.38e-04], dtype=float), 'Doctor 3.jpg': np.array([0.95, 0.04, 0.01], dtype=float), 'Dog 3.jpg': np.array([0.25, 0.67, 0.08], dtype=float), 'Dog 6.jpg': np.array([0.04, 0.96, 0.  ], dtype=float), 'Dog 11.jpg': np.array([0.24, 0.75, 0.  ], dtype=float), 'Dog 19.jpg': np.array([0.32, 0.3 , 0.38], dtype=float), 'Dog 20.jpg': np.array([0.49, 0.29, 0.23], dtype=float), 'Dog 31.jpg': np.array([0.56, 0.28, 0.16], dtype=float), 'Fire hydrant 1.jpg': np.array([0.74, 0.08, 0.18], dtype=float), 'Flowers 7.jpg': np.array([2.14e-02, 9.78e-01, 8.44e-04], dtype=float), 'Flowers 10.jpg': np.array([0.14, 0.85, 0.  ], dtype=float), 'Food 1.jpg': np.array([0.24, 0.29, 0.47], dtype=float), 'Food 5.jpg': np.array([0.55, 0.13, 0.32], dtype=float), 'Frustrated pose 1.jpg': np.array([0.29, 0.44, 0.28], dtype=float), 'Frustrated pose 2.jpg': np.array([0.44, 0.21, 0.35], dtype=float), 'Funeral 1.jpg': np.array([0.6 , 0.13, 0.27], dtype=float), 'Gazing 6.jpg': np.array([0.17, 0.83, 0.  ], dtype=float), 'Graveyard 1.jpg': np.array([0.2 , 0.76, 0.05], dtype=float), 'Gun 9.jpg': np.array([0.15, 0.  , 0.84], dtype=float), 'Hangover 1.jpg': np.array([0.75, 0.  , 0.24], dtype=float), 'House 1.jpg': np.array([0.98, 0.01, 0.01], dtype=float), 'KKK rally 2.jpg': np.array([0.16, 0.01, 0.83], dtype=float), 'Lightning 2.jpg': np.array([0.99, 0.  , 0.01], dtype=float), 'Meerkat 1.jpg': np.array([0.1 , 0.02, 0.88], dtype=float), 'Memorial 3.jpg': np.array([0.65, 0.02, 0.33], dtype=float), 'Miserable pose 5.jpg': np.array([0.25, 0.13, 0.62], dtype=float), 'Monkey 1.jpg': np.array([0.45, 0.15, 0.4 ], dtype=float), 'Mother 3.jpg': np.array([0.38, 0.47, 0.15], dtype=float), 'Mother 6.jpg': np.array([1.37e-02, 9.85e-01, 8.76e-04], dtype=float), 'Nude couple 12.jpg': np.array([0.09, 0.9 , 0.  ], dtype=float), 'Nude man 8.jpg': np.array([0.72, 0.28, 0.01], dtype=float), 'Nude woman 5.jpg': np.array([0.25, 0.75, 0.01], dtype=float), 'Nude woman 14.jpg': np.array([0.23, 0.7 , 0.07], dtype=float), 'BDSM 3.jpg': np.array([0.17, 0.83, 0.  ], dtype=float), 'Nude woman 19.jpg': np.array([0.94, 0.01, 0.04], dtype=float), 'Paperclips 3.jpg': np.array([0.77, 0.06, 0.17], dtype=float), 'Paperclips 4.jpg': np.array([0.56, 0.17, 0.26], dtype=float), 'Penguins 2.jpg': np.array([0.04, 0.96, 0.  ], dtype=float), 'Picnic 1.jpg': np.array([0.04, 0.95, 0.01], dtype=float), 'Pigeon 2.jpg': np.array([0.17, 0.04, 0.8 ], dtype=float), 'Police 3.jpg': np.array([0.92, 0.08, 0.  ], dtype=float), 'Present 1.jpg': np.array([1.05e-02, 9.89e-01, 3.06e-04], dtype=float), 'Rafting 2.jpg': np.array([0.73, 0.25, 0.02], dtype=float), 'Rafting 6.jpg': np.array([0.54, 0.45, 0.  ], dtype=float), 'Rocks 4.jpg': np.array([0.89, 0.05, 0.05], dtype=float), 'Rocks 5.jpg': np.array([0.92, 0.07, 0.01], dtype=float), 'Roofing 1.jpg': np.array([0.88, 0.02, 0.1 ], dtype=float), 'Sad pose 3.jpg': np.array([0.54, 0.19, 0.27], dtype=float), 'Sad pose 5.jpg': np.array([0.67, 0.04, 0.29], dtype=float), 'Scared cat 1.jpg': np.array([0.3 , 0.7 , 0.01], dtype=float), 'School 5.jpg': np.array([0.84, 0.09, 0.07], dtype=float), 'Shark 10.jpg': np.array([0.82, 0.06, 0.12], dtype=float), 'Shot 4.jpg': np.array([0.25, 0.  , 0.74], dtype=float), 'Shot 5.jpg': np.array([0.75, 0.02, 0.22], dtype=float), 'Sidewalk 6.jpg': np.array([0.42, 0.47, 0.11], dtype=float), 'Bird 2.jpg': np.array([0.35, 0.37, 0.28], dtype=float), 'Bird 3.jpg': np.array([0.1 , 0.89, 0.  ], dtype=float), 'Smiling face 1.jpg': np.array([0.2, 0.8, 0. ], dtype=float), 'Bird 5.jpg': np.array([0.44, 0.2 , 0.35], dtype=float), 'Soldiers 2.jpg': np.array([0.94, 0.01, 0.05], dtype=float), 'Soldiers 7.jpg': np.array([0.84, 0.03, 0.13], dtype=float), 'Statue 1.jpg': np.array([2.70e-02, 9.72e-01, 6.49e-04], dtype=float), 'Stingray 1.jpg': np.array([0.11, 0.88, 0.01], dtype=float), 'Storage 2.jpg': np.array([0.88, 0.04, 0.08], dtype=float), 'Surgery 4.jpg': np.array([0.81, 0.02, 0.17], dtype=float), 'Swimming 1.jpg': np.array([0.51, 0.48, 0.01], dtype=float), 'Thunderstorm 5.jpg': np.array([0.86, 0.14, 0.  ], dtype=float), 'Tornado 3.jpg': np.array([0.15, 0.02, 0.84], dtype=float), 'War 3.jpg': np.array([0.72, 0.04, 0.24], dtype=float), 'Wedding 4.jpg': np.array([0.09, 0.91, 0.  ], dtype=float), 'Wedding 5.jpg': np.array([3.22e-02, 9.67e-01, 5.15e-04], dtype=float), 'Wedding 12.jpg': np.array([0.91, 0.08, 0.  ], dtype=float), 'Bricks 1.jpg': np.array([0.87, 0.04, 0.08], dtype=float)}\n",
    "imgToPredictionFromCaptions"
   ]
  },
  {
   "cell_type": "markdown",
   "metadata": {},
   "source": [
    "## Image prediction results"
   ]
  },
  {
   "cell_type": "code",
   "execution_count": 29,
   "metadata": {
    "scrolled": true
   },
   "outputs": [
    {
     "data": {
      "text/plain": [
       "{'Car accident 1.jpg': [0.19, 0.14, 0.67],\n",
       " 'Dead bodies 3.jpg': [0.02, 0.0, 0.97],\n",
       " 'Depressed pose 3.jpg': [0.36, 0.3, 0.34],\n",
       " 'Dog 31.jpg': [0.52, 0.34, 0.14],\n",
       " 'Frustrated pose 1.jpg': [0.28, 0.03, 0.69],\n",
       " 'Frustrated pose 2.jpg': [0.09, 0.04, 0.87],\n",
       " 'Funeral 1.jpg': [0.2, 0.1, 0.69],\n",
       " 'Gun 9.jpg': [0.07, 0.0, 0.92],\n",
       " 'Hangover 1.jpg': [0.11, 0.88, 0.02],\n",
       " 'KKK rally 2.jpg': [0.4, 0.01, 0.59],\n",
       " 'Miserable pose 5.jpg': [0.4, 0.54, 0.07],\n",
       " 'Sad pose 3.jpg': [0.34, 0.32, 0.35],\n",
       " 'Shot 4.jpg': [0.6, 0.17, 0.23],\n",
       " 'Sidewalk 6.jpg': [0.977, 1.38e-06, 0.0225],\n",
       " 'Soldiers 7.jpg': [0.49, 0.05, 0.47],\n",
       " 'Tornado 3.jpg': [0.74, 0.03, 0.22],\n",
       " 'Alcohol 7.jpg': [0.71, 0.14, 0.15],\n",
       " 'BDSM 3.jpg': [0.47, 0.48, 0.05],\n",
       " 'Bird 5.jpg': [0.18, 0.25, 0.57],\n",
       " 'Bricks 1.jpg': [0.994, 2.27e-05, 0.00549],\n",
       " 'Camping 8.jpg': [0.45, 0.13, 0.42],\n",
       " 'Camping 9.jpg': [0.38, 0.26, 0.36],\n",
       " 'Child labor 1.jpg': [0.65, 0.02, 0.32],\n",
       " 'Crosswalk 1.jpg': [0.53, 0.09, 0.38],\n",
       " 'Cups 1.jpg': [0.37, 0.57, 0.05],\n",
       " 'Cups 4.jpg': [0.52, 0.09, 0.4],\n",
       " 'Doctor 3.jpg': [0.24, 0.58, 0.18],\n",
       " 'Fire hydrant 1.jpg': [0.63, 0.2, 0.17],\n",
       " 'Food 1.jpg': [0.19, 0.67, 0.13],\n",
       " 'Graveyard 1.jpg': [0.51, 0.19, 0.29],\n",
       " 'House 1.jpg': [0.4, 0.04, 0.56],\n",
       " 'Lightning 2.jpg': [1.0, 0.000344, 1.86e-05],\n",
       " 'Meerkat 1.jpg': [0.33, 0.43, 0.23],\n",
       " 'Memorial 3.jpg': [0.11, 0.05, 0.84],\n",
       " 'Monkey 1.jpg': [0.64, 0.19, 0.16],\n",
       " 'Nude man 8.jpg': [0.96, 0.04, 0.0],\n",
       " 'Nude woman 19.jpg': [0.48, 0.41, 0.11],\n",
       " 'Paperclips 3.jpg': [0.87, 0.01, 0.12],\n",
       " 'Paperclips 4.jpg': [0.84, 0.1, 0.06],\n",
       " 'Pigeon 2.jpg': [0.39, 0.26, 0.35],\n",
       " 'Police 3.jpg': [0.19, 0.06, 0.75],\n",
       " 'Rafting 2.jpg': [0.15, 0.85, 0.0],\n",
       " 'Rafting 6.jpg': [0.26, 0.71, 0.02],\n",
       " 'Rocks 4.jpg': [0.968, 0.000403, 0.032],\n",
       " 'Rocks 5.jpg': [0.98, 0.0, 0.02],\n",
       " 'Roofing 1.jpg': [0.97, 0.000333, 0.0292],\n",
       " 'Sad pose 5.jpg': [0.53, 0.41, 0.05],\n",
       " 'Scared cat 1.jpg': [0.35, 0.43, 0.21],\n",
       " 'School 5.jpg': [0.37, 0.47, 0.15],\n",
       " 'Shark 10.jpg': [0.999, 0.000714, 0.000583],\n",
       " 'Shot 5.jpg': [0.53, 0.24, 0.23],\n",
       " 'Soldiers 2.jpg': [0.4, 0.42, 0.18],\n",
       " 'Stingray 1.jpg': [0.27, 0.4, 0.33],\n",
       " 'Storage 2.jpg': [0.81, 0.14, 0.04],\n",
       " 'Surgery 4.jpg': [0.45, 0.43, 0.12],\n",
       " 'Thunderstorm 5.jpg': [0.996, 0.00373, 5.39e-05],\n",
       " 'War 3.jpg': [0.43, 0.05, 0.52],\n",
       " 'Wedding 12.jpg': [0.29, 0.69, 0.02],\n",
       " 'Bird 2.jpg': [0.26, 0.52, 0.22],\n",
       " 'Bird 3.jpg': [0.21, 0.7, 0.08],\n",
       " 'Bungee jumping 3.jpg': [0.4, 0.52, 0.08],\n",
       " 'Camping 3.jpg': [0.36, 0.55, 0.09],\n",
       " 'Coffee 1.jpg': [0.15, 0.82, 0.04],\n",
       " 'Cold 7.jpg': [0.81, 0.08, 0.11],\n",
       " 'Couple 4.jpg': [0.12, 0.87, 0.01],\n",
       " 'Couple 8.jpg': [0.38, 0.42, 0.2],\n",
       " 'Dancing 7.jpg': [0.1, 0.9, 0.0],\n",
       " 'Dessert 3.jpg': [0.21, 0.7, 0.09],\n",
       " 'Dog 11.jpg': [0.23, 0.61, 0.16],\n",
       " 'Dog 19.jpg': [0.17, 0.8, 0.03],\n",
       " 'Dog 20.jpg': [0.23, 0.52, 0.25],\n",
       " 'Dog 3.jpg': [0.23, 0.63, 0.14],\n",
       " 'Dog 6.jpg': [0.3, 0.56, 0.13],\n",
       " 'Flowers 10.jpg': [0.09, 0.86, 0.05],\n",
       " 'Flowers 7.jpg': [0.00405, 0.996, 0.000134],\n",
       " 'Food 5.jpg': [0.09, 0.81, 0.1],\n",
       " 'Gazing 6.jpg': [0.4, 0.26, 0.34],\n",
       " 'Mother 3.jpg': [0.3, 0.55, 0.15],\n",
       " 'Mother 6.jpg': [0.01, 0.98, 0.01],\n",
       " 'Nude couple 12.jpg': [0.43, 0.52, 0.05],\n",
       " 'Nude woman 14.jpg': [0.16, 0.82, 0.02],\n",
       " 'Nude woman 5.jpg': [0.39, 0.5, 0.1],\n",
       " 'Penguins 2.jpg': [0.31, 0.4, 0.29],\n",
       " 'Picnic 1.jpg': [0.29, 0.48, 0.23],\n",
       " 'Present 1.jpg': [0.06, 0.93, 0.01],\n",
       " 'Smiling face 1.jpg': [0.38, 0.38, 0.24],\n",
       " 'Statue 1.jpg': [0.3, 0.29, 0.41],\n",
       " 'Swimming 1.jpg': [0.2, 0.79, 0.01],\n",
       " 'Wedding 4.jpg': [0.000719, 0.999, 6.59e-06],\n",
       " 'Wedding 5.jpg': [0.12, 0.81, 0.07]}"
      ]
     },
     "execution_count": 29,
     "metadata": {},
     "output_type": "execute_result"
    }
   ],
   "source": [
    "#Image Predictions:\n",
    "\n",
    "caption_class_to_index = {-1: 2, 0: 0, 1: 1} # {neg: 2, neut: 0, pos: 1}\n",
    "# From Image captions\n",
    "# 0 index: neutral\n",
    "# 1 index: positive\n",
    "# 2 index negative\n",
    "\n",
    "\n",
    "image_class_to_index =   {-1: 0, 0: 1, 1: 2} # {neg: 0, neut: 1, pos: 2}\n",
    "# For Image pixels:\n",
    "# 0 index : negative\n",
    "# 1 index :neutral\n",
    "# 2 index : positive\n",
    "\n",
    "# For Aligning Image indices to match caption indices\n",
    "# 1) put image_pred[1]\n",
    "# 2) put image_pred[2]\n",
    "# 3) put image_pred[0]\n",
    "\n",
    "#Final class to index\n",
    "class_to_index = {-1: 2, 0: 0, 1: 1} # {neg: 2, neut: 0, pos: 1}\n",
    "\n",
    "\n",
    "imgToPredictionFromImages =  {'Car accident 1.jpg': np.array([0.67, 0.19, 0.14], dtype=float), 'Dead bodies 3.jpg': np.array([0.97, 0.02, 0.  ], dtype=float), 'Depressed pose 3.jpg': np.array([0.34, 0.36, 0.3 ], dtype=float), 'Dog 31.jpg': np.array([0.14, 0.52, 0.34], dtype=float), 'Frustrated pose 1.jpg': np.array([0.69, 0.28, 0.03], dtype=float), 'Frustrated pose 2.jpg': np.array([0.87, 0.09, 0.04], dtype=float), 'Funeral 1.jpg': np.array([0.69, 0.2 , 0.1 ], dtype=float), 'Gun 9.jpg': np.array([0.92, 0.07, 0.  ], dtype=float), 'Hangover 1.jpg': np.array([0.02, 0.11, 0.88], dtype=float), 'KKK rally 2.jpg': np.array([0.59, 0.4 , 0.01], dtype=float), 'Miserable pose 5.jpg': np.array([0.07, 0.4 , 0.54], dtype=float), 'Sad pose 3.jpg': np.array([0.35, 0.34, 0.32], dtype=float), 'Shot 4.jpg': np.array([0.23, 0.6 , 0.17], dtype=float), 'Sidewalk 6.jpg': np.array([2.25e-02, 9.77e-01, 1.38e-06], dtype=float), 'Soldiers 7.jpg': np.array([0.47, 0.49, 0.05], dtype=float), 'Tornado 3.jpg': np.array([0.22, 0.74, 0.03], dtype=float), 'Alcohol 7.jpg': np.array([0.15, 0.71, 0.14], dtype=float), 'BDSM 3.jpg': np.array([0.05, 0.47, 0.48], dtype=float), 'Bird 5.jpg': np.array([0.57, 0.18, 0.25], dtype=float), 'Bricks 1.jpg': np.array([5.49e-03, 9.94e-01, 2.27e-05], dtype=float), 'Camping 8.jpg': np.array([0.42, 0.45, 0.13], dtype=float), 'Camping 9.jpg': np.array([0.36, 0.38, 0.26], dtype=float), 'Child labor 1.jpg': np.array([0.32, 0.65, 0.02], dtype=float), 'Crosswalk 1.jpg': np.array([0.38, 0.53, 0.09], dtype=float), 'Cups 1.jpg': np.array([0.05, 0.37, 0.57], dtype=float), 'Cups 4.jpg': np.array([0.4 , 0.52, 0.09], dtype=float), 'Doctor 3.jpg': np.array([0.18, 0.24, 0.58], dtype=float), 'Fire hydrant 1.jpg': np.array([0.17, 0.63, 0.2 ], dtype=float), 'Food 1.jpg': np.array([0.13, 0.19, 0.67], dtype=float), 'Graveyard 1.jpg': np.array([0.29, 0.51, 0.19], dtype=float), 'House 1.jpg': np.array([0.56, 0.4 , 0.04], dtype=float), 'Lightning 2.jpg': np.array([1.86e-05, 1.00e+00, 3.44e-04], dtype=float), 'Meerkat 1.jpg': np.array([0.23, 0.33, 0.43], dtype=float), 'Memorial 3.jpg': np.array([0.84, 0.11, 0.05], dtype=float), 'Monkey 1.jpg': np.array([0.16, 0.64, 0.19], dtype=float), 'Nude man 8.jpg': np.array([0.  , 0.96, 0.04], dtype=float), 'Nude woman 19.jpg': np.array([0.11, 0.48, 0.41], dtype=float), 'Paperclips 3.jpg': np.array([0.12, 0.87, 0.01], dtype=float), 'Paperclips 4.jpg': np.array([0.06, 0.84, 0.1 ], dtype=float), 'Pigeon 2.jpg': np.array([0.35, 0.39, 0.26], dtype=float), 'Police 3.jpg': np.array([0.75, 0.19, 0.06], dtype=float), 'Rafting 2.jpg': np.array([0.  , 0.15, 0.85], dtype=float), 'Rafting 6.jpg': np.array([0.02, 0.26, 0.71], dtype=float), 'Rocks 4.jpg': np.array([3.20e-02, 9.68e-01, 4.03e-04], dtype=float), 'Rocks 5.jpg': np.array([0.02, 0.98, 0.  ], dtype=float), 'Roofing 1.jpg': np.array([2.92e-02, 9.70e-01, 3.33e-04], dtype=float), 'Sad pose 5.jpg': np.array([0.05, 0.53, 0.41], dtype=float), 'Scared cat 1.jpg': np.array([0.21, 0.35, 0.43], dtype=float), 'School 5.jpg': np.array([0.15, 0.37, 0.47], dtype=float), 'Shark 10.jpg': np.array([5.83e-04, 9.99e-01, 7.14e-04], dtype=float), 'Shot 5.jpg': np.array([0.23, 0.53, 0.24], dtype=float), 'Soldiers 2.jpg': np.array([0.18, 0.4 , 0.42], dtype=float), 'Stingray 1.jpg': np.array([0.33, 0.27, 0.4 ], dtype=float), 'Storage 2.jpg': np.array([0.04, 0.81, 0.14], dtype=float), 'Surgery 4.jpg': np.array([0.12, 0.45, 0.43], dtype=float), 'Thunderstorm 5.jpg': np.array([5.39e-05, 9.96e-01, 3.73e-03], dtype=float), 'War 3.jpg': np.array([0.52, 0.43, 0.05], dtype=float), 'Wedding 12.jpg': np.array([0.02, 0.29, 0.69], dtype=float), 'Bird 2.jpg': np.array([0.22, 0.26, 0.52], dtype=float), 'Bird 3.jpg': np.array([0.08, 0.21, 0.7 ], dtype=float), 'Bungee jumping 3.jpg': np.array([0.08, 0.4 , 0.52], dtype=float), 'Camping 3.jpg': np.array([0.09, 0.36, 0.55], dtype=float), 'Coffee 1.jpg': np.array([0.04, 0.15, 0.82], dtype=float), 'Cold 7.jpg': np.array([0.11, 0.81, 0.08], dtype=float), 'Couple 4.jpg': np.array([0.01, 0.12, 0.87], dtype=float), 'Couple 8.jpg': np.array([0.2 , 0.38, 0.42], dtype=float), 'Dancing 7.jpg': np.array([0. , 0.1, 0.9], dtype=float), 'Dessert 3.jpg': np.array([0.09, 0.21, 0.7 ], dtype=float), 'Dog 11.jpg': np.array([0.16, 0.23, 0.61], dtype=float), 'Dog 19.jpg': np.array([0.03, 0.17, 0.8 ], dtype=float), 'Dog 20.jpg': np.array([0.25, 0.23, 0.52], dtype=float), 'Dog 3.jpg': np.array([0.14, 0.23, 0.63], dtype=float), 'Dog 6.jpg': np.array([0.13, 0.3 , 0.56], dtype=float), 'Flowers 10.jpg': np.array([0.05, 0.09, 0.86], dtype=float), 'Flowers 7.jpg': np.array([1.34e-04, 4.05e-03, 9.96e-01], dtype=float), 'Food 5.jpg': np.array([0.1 , 0.09, 0.81], dtype=float), 'Gazing 6.jpg': np.array([0.34, 0.4 , 0.26], dtype=float), 'Mother 3.jpg': np.array([0.15, 0.3 , 0.55], dtype=float), 'Mother 6.jpg': np.array([0.01, 0.01, 0.98], dtype=float), 'Nude couple 12.jpg': np.array([0.05, 0.43, 0.52], dtype=float), 'Nude woman 14.jpg': np.array([0.02, 0.16, 0.82], dtype=float), 'Nude woman 5.jpg': np.array([0.1 , 0.39, 0.5 ], dtype=float), 'Penguins 2.jpg': np.array([0.29, 0.31, 0.4 ], dtype=float), 'Picnic 1.jpg': np.array([0.23, 0.29, 0.48], dtype=float), 'Present 1.jpg': np.array([0.01, 0.06, 0.93], dtype=float), 'Smiling face 1.jpg': np.array([0.24, 0.38, 0.38], dtype=float), 'Statue 1.jpg': np.array([0.41, 0.3 , 0.29], dtype=float), 'Swimming 1.jpg': np.array([0.01, 0.2 , 0.79], dtype=float), 'Wedding 4.jpg': np.array([6.59e-06, 7.19e-04, 9.99e-01], dtype=float), 'Wedding 5.jpg': np.array([0.07, 0.12, 0.81], dtype=float)}\n",
    "#imgToPredictionFromImages = collections.OrderedDict(sorted(imgToPredictionFromImages.items()))\n",
    "#imgToPredictionFromImages\n",
    "\n",
    "imgToPredictionFromImagesAligned = {}\n",
    "for image_name, prediction in imgToPredictionFromImages.items():\n",
    "    predAligned = []\n",
    "    predAligned.append(prediction[1])\n",
    "    predAligned.append(prediction[2])\n",
    "    predAligned.append(prediction[0])\n",
    "    imgToPredictionFromImagesAligned[image_name] = predAligned\n",
    "    \n",
    "imgToPredictionFromImagesAligned    "
   ]
  },
  {
   "cell_type": "markdown",
   "metadata": {},
   "source": [
    "## Calculate Predictions by averaging image and caption predictions"
   ]
  },
  {
   "cell_type": "code",
   "execution_count": 31,
   "metadata": {},
   "outputs": [
    {
     "name": "stdout",
     "output_type": "stream",
     "text": [
      "y_true\n",
      " [-1, -1, -1, -1, -1, -1, -1, -1, -1, -1, -1, -1, -1, -1, -1, -1, 0, 0, 0, 0, 0, 0, 0, 0, 0, 0, 0, 0, 0, 0, 0, 0, 0, 0, 0, 0, 0, 0, 0, 0, 0, 0, 0, 0, 0, 0, 0, 0, 0, 0, 0, 0, 0, 0, 0, 0, 0, 0, 1, 1, 1, 1, 1, 1, 1, 1, 1, 1, 1, 1, 1, 1, 1, 1, 1, 1, 1, 1, 1, 1, 1, 1, 1, 1, 1, 1, 1, 1, 1, 1]\n",
      "y_pred\n",
      " [-1, -1, 0, 0, -1, -1, -1, -1, 1, -1, -1, 0, -1, 0, 0, -1, 0, 1, -1, 0, 1, 0, 0, 0, 1, 0, 0, 0, 1, 1, 0, 0, -1, -1, 0, 0, 0, 0, 0, -1, 0, 1, 1, 0, 0, 0, 0, 1, 0, 0, 0, 0, 1, 0, 0, 0, 0, 0, 1, 1, 1, 1, 1, 0, 1, 1, 1, 1, 1, 1, 1, 1, 1, 1, 1, 1, 1, 1, 1, 1, 1, 1, 1, 1, 1, 1, 1, 1, 1, 1]\n",
      "Accuracy: 77.77777777777777\n",
      "f1:  0.7720123610534569\n"
     ]
    },
    {
     "data": {
      "image/png": "[encoded data removed]",
      "text/plain": [
       "<Figure size 432x288 with 2 Axes>"
      ]
     },
     "metadata": {},
     "output_type": "display_data"
    }
   ],
   "source": [
    "y_true =  [-1, -1, -1, -1, -1, -1, -1, -1, -1, -1, -1, -1, -1, -1, -1, -1, 0, 0, 0, 0, 0, 0, 0, 0, 0, 0, 0, 0, 0, 0, 0, 0, 0, 0, 0, 0, 0, 0, 0, 0, 0, 0, 0, 0, 0, 0, 0, 0, 0, 0, 0, 0, 0, 0, 0, 0, 0, 0, 1, 1, 1, 1, 1, 1, 1, 1, 1, 1, 1, 1, 1, 1, 1, 1, 1, 1, 1, 1, 1, 1, 1, 1, 1, 1, 1, 1, 1, 1, 1, 1]\n",
    "\n",
    "y_pred = []\n",
    "for img_name in imgToPredictionFromImagesAligned:\n",
    "    caption_pred = imgToPredictionFromCaptions[img_name]\n",
    "    img_pred = imgToPredictionFromImagesAligned[img_name]\n",
    "    pred = (caption_pred + img_pred) / 2.0\n",
    "    y_pred.append(pred)\n",
    "    \n",
    "y_pred = imut.conver_predictions_to_classes(y_pred, caption_class_to_index)    \n",
    "print(\"y_true\\n\",y_true)\n",
    "print(\"y_pred\\n\",y_pred)\n",
    "\n",
    "correctCount = 0\n",
    "wrongCount = 0\n",
    "for predLabel,trueLabel in zip(y_pred, y_true):\n",
    "    if predLabel == trueLabel:\n",
    "        correctCount += 1\n",
    "    else:\n",
    "        wrongCount += 1\n",
    "accuracy = correctCount * 100.0 / (correctCount + wrongCount)        \n",
    "print(\"Accuracy:\", accuracy )\n",
    "f1 = f1_score(y_true, y_pred, average='weighted')\n",
    "print(\"f1: \", f1)\n",
    "titleOfConfusionMatrix = \"Confusion Matrix of Emseble model\"\n",
    "pt.plot_confusion_matrix_from_labels(y_true, y_pred, titleOfConfusionMatrix)"
   ]
  }
 ],
 "metadata": {
  "kernelspec": {
   "display_name": "Python 3",
   "language": "python",
   "name": "python3"
  },
  "language_info": {
   "codemirror_mode": {
    "name": "ipython",
    "version": 3
   },
   "file_extension": ".py",
   "mimetype": "text/x-python",
   "name": "python",
   "nbconvert_exporter": "python",
   "pygments_lexer": "ipython3",
   "version": "3.6.8"
  }
 },
 "nbformat": 4,
 "nbformat_minor": 2
}
