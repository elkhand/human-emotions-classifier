{
 "cells": [
  {
   "cell_type": "markdown",
   "metadata": {},
   "source": [
    "# VADER\n",
    "\n",
    "https://github.com/cjhutto/vaderSentiment\n",
    "\n",
    "VADER system classify given text into 3 categores:\n",
    "    - positive : compound score >=  0.05\n",
    "    - neutral  : -0.05 < compound score < 0.05\n",
    "    - negative : compound score <= -0.05\n",
    "\n",
    "## Install VADER package"
   ]
  },
  {
   "cell_type": "code",
   "execution_count": 4,
   "metadata": {},
   "outputs": [
    {
     "name": "stdout",
     "output_type": "stream",
     "text": [
      "Requirement already satisfied: vaderSentiment in /home/elkhand/anaconda3/envs/cs231n/lib/python3.6/site-packages\n",
      "\u001b[33mYou are using pip version 9.0.3, however version 10.0.1 is available.\n",
      "You should consider upgrading via the 'pip install --upgrade pip' command.\u001b[0m\n"
     ]
    }
   ],
   "source": [
    "!pip install vaderSentiment"
   ]
  },
  {
   "cell_type": "markdown",
   "metadata": {},
   "source": [
    "## Sample Image captions of OASIS dataset"
   ]
  },
  {
   "cell_type": "code",
   "execution_count": 5,
   "metadata": {},
   "outputs": [
    {
     "name": "stdout",
     "output_type": "stream",
     "text": [
      "Total sample captions 14\n"
     ]
    }
   ],
   "source": [
    "image_captions=[\"the women are proudly walking in a parade.\",\n",
    "               \"instruments of torture in the room and on the walls can inflict pain and suffering.\",\n",
    "               \"people being subjugated is not pleasant.\",\n",
    "               \"roller coasters are fun.\",\n",
    "               \"ape in confinement is looking apprehensive, confining wild animals is bad.\",\n",
    "               \"roller coaster tracks disappearing into the snow hint at excitement.\",\n",
    "               \"the men look like they are happy with each other and ready to embrace.\",\n",
    "               \"A dirty American flag and white shoe, lying in broken wood with plants growing through it.\",\n",
    "               \"Two sled dogs in harness, running across a snowy field.\",\n",
    "               \"A brown dog sitting on a garden path.  His mouth is open and his mottled tongue is hanging out. He has a chain collar around his neck.\",\n",
    "               \"A brown and white beagle wearing a black collar, sitting with its mouth open.\",\n",
    "               \"A short-haired brown dog and a guinea pig, lying side by side on a red couch.\",\n",
    "               \"A dog on a leash with its mouth open, looking alertly towards the camera.\",\n",
    "               \"An enormous mushroom cloud rises from Bikini Atoll.\",\n",
    "               ]\n",
    "print(\"Total sample captions\",len(image_captions))"
   ]
  },
  {
   "cell_type": "markdown",
   "metadata": {},
   "source": [
    "## Evaluate valence scores of sample captions via VADER"
   ]
  },
  {
   "cell_type": "code",
   "execution_count": 6,
   "metadata": {},
   "outputs": [
    {
     "name": "stdout",
     "output_type": "stream",
     "text": [
      "the women are proudly walking in a parade. \n",
      " {'neg': 0.0, 'neu': 0.625, 'pos': 0.375, 'compound': 0.5574} POSITIVE\n",
      "\n",
      "instruments of torture in the room and on the walls can inflict pain and suffering. \n",
      " {'neg': 0.462, 'neu': 0.538, 'pos': 0.0, 'compound': -0.8834} NEGATIVE\n",
      "\n",
      "people being subjugated is not pleasant. \n",
      " {'neg': 0.351, 'neu': 0.649, 'pos': 0.0, 'compound': -0.4023} NEGATIVE\n",
      "\n",
      "roller coasters are fun. \n",
      " {'neg': 0.0, 'neu': 0.476, 'pos': 0.524, 'compound': 0.5106} POSITIVE\n",
      "\n",
      "ape in confinement is looking apprehensive, confining wild animals is bad. \n",
      " {'neg': 0.259, 'neu': 0.741, 'pos': 0.0, 'compound': -0.5423} NEGATIVE\n",
      "\n",
      "roller coaster tracks disappearing into the snow hint at excitement. \n",
      " {'neg': 0.0, 'neu': 0.738, 'pos': 0.262, 'compound': 0.4939} POSITIVE\n",
      "\n",
      "the men look like they are happy with each other and ready to embrace. \n",
      " {'neg': 0.0, 'neu': 0.476, 'pos': 0.524, 'compound': 0.875} POSITIVE\n",
      "\n",
      "A dirty American flag and white shoe, lying in broken wood with plants growing through it. \n",
      " {'neg': 0.425, 'neu': 0.498, 'pos': 0.077, 'compound': -0.8271} NEGATIVE\n",
      "\n",
      "Two sled dogs in harness, running across a snowy field. \n",
      " {'neg': 0.0, 'neu': 1.0, 'pos': 0.0, 'compound': 0.0} NEUTRAL\n",
      "\n",
      "A brown dog sitting on a garden path.  His mouth is open and his mottled tongue is hanging out. He has a chain collar around his neck. \n",
      " {'neg': 0.0, 'neu': 1.0, 'pos': 0.0, 'compound': 0.0} NEUTRAL\n",
      "\n",
      "A brown and white beagle wearing a black collar, sitting with its mouth open. \n",
      " {'neg': 0.0, 'neu': 1.0, 'pos': 0.0, 'compound': 0.0} NEUTRAL\n",
      "\n",
      "A short-haired brown dog and a guinea pig, lying side by side on a red couch. \n",
      " {'neg': 0.221, 'neu': 0.779, 'pos': 0.0, 'compound': -0.5267} NEGATIVE\n",
      "\n",
      "A dog on a leash with its mouth open, looking alertly towards the camera. \n",
      " {'neg': 0.0, 'neu': 1.0, 'pos': 0.0, 'compound': 0.0} NEUTRAL\n",
      "\n",
      "An enormous mushroom cloud rises from Bikini Atoll. \n",
      " {'neg': 0.0, 'neu': 1.0, 'pos': 0.0, 'compound': 0.0} NEUTRAL\n",
      "\n"
     ]
    },
    {
     "data": {
      "text/plain": [
       "{'A brown and white beagle wearing a black collar, sitting with its mouth open.': 0,\n",
       " 'A brown dog sitting on a garden path.  His mouth is open and his mottled tongue is hanging out. He has a chain collar around his neck.': 0,\n",
       " 'A dirty American flag and white shoe, lying in broken wood with plants growing through it.': -1,\n",
       " 'A dog on a leash with its mouth open, looking alertly towards the camera.': 0,\n",
       " 'A short-haired brown dog and a guinea pig, lying side by side on a red couch.': -1,\n",
       " 'An enormous mushroom cloud rises from Bikini Atoll.': 0,\n",
       " 'Two sled dogs in harness, running across a snowy field.': 0,\n",
       " 'ape in confinement is looking apprehensive, confining wild animals is bad.': -1,\n",
       " 'instruments of torture in the room and on the walls can inflict pain and suffering.': -1,\n",
       " 'people being subjugated is not pleasant.': -1,\n",
       " 'roller coaster tracks disappearing into the snow hint at excitement.': 1,\n",
       " 'roller coasters are fun.': 1,\n",
       " 'the men look like they are happy with each other and ready to embrace.': 1,\n",
       " 'the women are proudly walking in a parade.': 1}"
      ]
     },
     "execution_count": 6,
     "metadata": {},
     "output_type": "execute_result"
    }
   ],
   "source": [
    "from utils.data_utils import *\n",
    "\n",
    "print_polarity_scores(image_captions)"
   ]
  },
  {
   "cell_type": "markdown",
   "metadata": {},
   "source": [
    "## TODO:\n",
    "- read all captions from captions.csv file\n",
    "- read all valence score from OASIS.csv file\n",
    "- run all captions in OASIS dataset and compare the valences score from OASIS.csv\n",
    "- print accuracy of the VADER system vs human rating"
   ]
  },
  {
   "cell_type": "markdown",
   "metadata": {},
   "source": [
    "## Conclusion of the experiment"
   ]
  }
 ],
 "metadata": {
  "kernelspec": {
   "display_name": "Python 3",
   "language": "python",
   "name": "python3"
  },
  "language_info": {
   "codemirror_mode": {
    "name": "ipython",
    "version": 3
   },
   "file_extension": ".py",
   "mimetype": "text/x-python",
   "name": "python",
   "nbconvert_exporter": "python",
   "pygments_lexer": "ipython3",
   "version": "3.6.4"
  }
 },
 "nbformat": 4,
 "nbformat_minor": 2
}
