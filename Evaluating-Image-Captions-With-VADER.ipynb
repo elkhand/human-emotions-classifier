{
 "cells": [
  {
   "cell_type": "markdown",
   "metadata": {},
   "source": [
    "# VADER\n",
    "\n",
    "https://github.com/cjhutto/vaderSentiment\n",
    "http://www.benedekkurdi.com/#oasis\n",
    "\n",
    "\n",
    "The compound score is computed by summing the valence scores of each word in the lexicon, adjusted according to the rules, and then normalized to be between -1 (most extreme negative) and +1 (most extreme positive).\n",
    "\n",
    "Compound score is a 'normalized, weighted composite score' is accurate.\n",
    "\n",
    "VADER system classify given text into 3 categores:\n",
    "    - positive : compound score >=  0.05\n",
    "    - neutral  : -0.05 < compound score < 0.05\n",
    "    - negative : compound score <= -0.05\n",
    "\n",
    "## Install VADER package"
   ]
  },
  {
   "cell_type": "code",
   "execution_count": 1,
   "metadata": {},
   "outputs": [
    {
     "name": "stdout",
     "output_type": "stream",
     "text": [
      "Requirement already satisfied: vaderSentiment in /home/elkhand/anaconda3/envs/cs231n/lib/python3.6/site-packages\n",
      "\u001b[33mYou are using pip version 9.0.3, however version 10.0.1 is available.\n",
      "You should consider upgrading via the 'pip install --upgrade pip' command.\u001b[0m\n"
     ]
    }
   ],
   "source": [
    "!pip install vaderSentiment\n",
    "from utils.data_utils import *\n",
    "import numpy as np\n",
    "import matplotlib.pyplot as plt"
   ]
  },
  {
   "cell_type": "markdown",
   "metadata": {},
   "source": [
    "## Sample Image captions of OASIS dataset"
   ]
  },
  {
   "cell_type": "code",
   "execution_count": 2,
   "metadata": {},
   "outputs": [
    {
     "name": "stdout",
     "output_type": "stream",
     "text": [
      "Total sample captions 14\n"
     ]
    }
   ],
   "source": [
    "image_captions=[\"the women are proudly walking in a parade.\",\n",
    "               \"instruments of torture in the room and on the walls can inflict pain and suffering.\",\n",
    "               \"people being subjugated is not pleasant.\",\n",
    "               \"roller coasters are fun.\",\n",
    "               \"ape in confinement is looking apprehensive, confining wild animals is bad.\",\n",
    "               \"roller coaster tracks disappearing into the snow hint at excitement.\",\n",
    "               \"the men look like they are happy with each other and ready to embrace.\",\n",
    "               \"A dirty American flag and white shoe, lying in broken wood with plants growing through it.\",\n",
    "               \"Two sled dogs in harness, running across a snowy field.\",\n",
    "               \"A brown dog sitting on a garden path.  His mouth is open and his mottled tongue is hanging out. He has a chain collar around his neck.\",\n",
    "               \"A brown and white beagle wearing a black collar, sitting with its mouth open.\",\n",
    "               \"A short-haired brown dog and a guinea pig, lying side by side on a red couch.\",\n",
    "               \"A dog on a leash with its mouth open, looking alertly towards the camera.\",\n",
    "               \"An enormous mushroom cloud rises from Bikini Atoll.\",\n",
    "               ]\n",
    "print(\"Total sample captions\",len(image_captions))"
   ]
  },
  {
   "cell_type": "markdown",
   "metadata": {},
   "source": [
    "## Evaluate valence scores of sample captions via VADER"
   ]
  },
  {
   "cell_type": "code",
   "execution_count": 3,
   "metadata": {},
   "outputs": [
    {
     "name": "stdout",
     "output_type": "stream",
     "text": [
      "the women are proudly walking in a parade. \n",
      " {'neg': 0.0, 'neu': 0.625, 'pos': 0.375, 'compound': 0.5574} POSITIVE\n",
      "\n",
      "instruments of torture in the room and on the walls can inflict pain and suffering. \n",
      " {'neg': 0.462, 'neu': 0.538, 'pos': 0.0, 'compound': -0.8834} NEGATIVE\n",
      "\n",
      "people being subjugated is not pleasant. \n",
      " {'neg': 0.351, 'neu': 0.649, 'pos': 0.0, 'compound': -0.4023} NEGATIVE\n",
      "\n",
      "roller coasters are fun. \n",
      " {'neg': 0.0, 'neu': 0.476, 'pos': 0.524, 'compound': 0.5106} POSITIVE\n",
      "\n",
      "ape in confinement is looking apprehensive, confining wild animals is bad. \n",
      " {'neg': 0.259, 'neu': 0.741, 'pos': 0.0, 'compound': -0.5423} NEGATIVE\n",
      "\n",
      "roller coaster tracks disappearing into the snow hint at excitement. \n",
      " {'neg': 0.0, 'neu': 0.738, 'pos': 0.262, 'compound': 0.4939} POSITIVE\n",
      "\n",
      "the men look like they are happy with each other and ready to embrace. \n",
      " {'neg': 0.0, 'neu': 0.476, 'pos': 0.524, 'compound': 0.875} POSITIVE\n",
      "\n",
      "A dirty American flag and white shoe, lying in broken wood with plants growing through it. \n",
      " {'neg': 0.425, 'neu': 0.498, 'pos': 0.077, 'compound': -0.8271} NEGATIVE\n",
      "\n",
      "Two sled dogs in harness, running across a snowy field. \n",
      " {'neg': 0.0, 'neu': 1.0, 'pos': 0.0, 'compound': 0.0} NEUTRAL\n",
      "\n",
      "A brown dog sitting on a garden path.  His mouth is open and his mottled tongue is hanging out. He has a chain collar around his neck. \n",
      " {'neg': 0.0, 'neu': 1.0, 'pos': 0.0, 'compound': 0.0} NEUTRAL\n",
      "\n",
      "A brown and white beagle wearing a black collar, sitting with its mouth open. \n",
      " {'neg': 0.0, 'neu': 1.0, 'pos': 0.0, 'compound': 0.0} NEUTRAL\n",
      "\n",
      "A short-haired brown dog and a guinea pig, lying side by side on a red couch. \n",
      " {'neg': 0.221, 'neu': 0.779, 'pos': 0.0, 'compound': -0.5267} NEGATIVE\n",
      "\n",
      "A dog on a leash with its mouth open, looking alertly towards the camera. \n",
      " {'neg': 0.0, 'neu': 1.0, 'pos': 0.0, 'compound': 0.0} NEUTRAL\n",
      "\n",
      "An enormous mushroom cloud rises from Bikini Atoll. \n",
      " {'neg': 0.0, 'neu': 1.0, 'pos': 0.0, 'compound': 0.0} NEUTRAL\n",
      "\n"
     ]
    },
    {
     "data": {
      "text/plain": [
       "{'A brown and white beagle wearing a black collar, sitting with its mouth open.': 0,\n",
       " 'A brown dog sitting on a garden path.  His mouth is open and his mottled tongue is hanging out. He has a chain collar around his neck.': 0,\n",
       " 'A dirty American flag and white shoe, lying in broken wood with plants growing through it.': -1,\n",
       " 'A dog on a leash with its mouth open, looking alertly towards the camera.': 0,\n",
       " 'A short-haired brown dog and a guinea pig, lying side by side on a red couch.': -1,\n",
       " 'An enormous mushroom cloud rises from Bikini Atoll.': 0,\n",
       " 'Two sled dogs in harness, running across a snowy field.': 0,\n",
       " 'ape in confinement is looking apprehensive, confining wild animals is bad.': -1,\n",
       " 'instruments of torture in the room and on the walls can inflict pain and suffering.': -1,\n",
       " 'people being subjugated is not pleasant.': -1,\n",
       " 'roller coaster tracks disappearing into the snow hint at excitement.': 1,\n",
       " 'roller coasters are fun.': 1,\n",
       " 'the men look like they are happy with each other and ready to embrace.': 1,\n",
       " 'the women are proudly walking in a parade.': 1}"
      ]
     },
     "execution_count": 3,
     "metadata": {},
     "output_type": "execute_result"
    }
   ],
   "source": [
    "print_polarity_scores(image_captions)"
   ]
  },
  {
   "cell_type": "markdown",
   "metadata": {},
   "source": [
    "## TODO:\n",
    "- read all captions from captions.csv file\n",
    "- read all valence score from OASIS.csv file\n",
    "- run all captions in OASIS dataset into VADER system and compare the valences score from OASIS.csv with compound scores from VADER\n",
    "- print accuracy of the VADER system vs human rating"
   ]
  },
  {
   "cell_type": "markdown",
   "metadata": {},
   "source": [
    "## Read Image Valence scores and label them"
   ]
  },
  {
   "cell_type": "code",
   "execution_count": 4,
   "metadata": {
    "scrolled": false
   },
   "outputs": [
    {
     "name": "stdout",
     "output_type": "stream",
     "text": [
      "minValence -1.0 maxValence 1.0 meanValence 0.19776832186355742 0.45589750942956936 \n",
      "\n",
      "Histogram of positive, negative and neutral images in OASIS {1: 608, -1: 248, 0: 44}\n"
     ]
    },
    {
     "data": {
      "text/html": [
       "<div>\n",
       "<style scoped>\n",
       "    .dataframe tbody tr th:only-of-type {\n",
       "        vertical-align: middle;\n",
       "    }\n",
       "\n",
       "    .dataframe tbody tr th {\n",
       "        vertical-align: top;\n",
       "    }\n",
       "\n",
       "    .dataframe thead th {\n",
       "        text-align: right;\n",
       "    }\n",
       "</style>\n",
       "<table border=\"1\" class=\"dataframe\">\n",
       "  <thead>\n",
       "    <tr style=\"text-align: right;\">\n",
       "      <th></th>\n",
       "      <th>id</th>\n",
       "      <th>theme</th>\n",
       "      <th>category</th>\n",
       "      <th>source</th>\n",
       "      <th>valence_mean</th>\n",
       "      <th>valence_std</th>\n",
       "      <th>valence_n</th>\n",
       "      <th>arousal_mean</th>\n",
       "      <th>arousal_std</th>\n",
       "      <th>arousal_n</th>\n",
       "    </tr>\n",
       "  </thead>\n",
       "  <tbody>\n",
       "    <tr>\n",
       "      <th>0</th>\n",
       "      <td>I1</td>\n",
       "      <td>Acorns 1</td>\n",
       "      <td>Object</td>\n",
       "      <td>Pixabay</td>\n",
       "      <td>4.686275</td>\n",
       "      <td>0.954203</td>\n",
       "      <td>102</td>\n",
       "      <td>2.346535</td>\n",
       "      <td>1.602720</td>\n",
       "      <td>101</td>\n",
       "    </tr>\n",
       "    <tr>\n",
       "      <th>1</th>\n",
       "      <td>I2</td>\n",
       "      <td>Acorns 2</td>\n",
       "      <td>Object</td>\n",
       "      <td>Pixabay</td>\n",
       "      <td>4.519608</td>\n",
       "      <td>0.841150</td>\n",
       "      <td>102</td>\n",
       "      <td>2.227723</td>\n",
       "      <td>1.399151</td>\n",
       "      <td>101</td>\n",
       "    </tr>\n",
       "    <tr>\n",
       "      <th>2</th>\n",
       "      <td>I3</td>\n",
       "      <td>Acorns 3</td>\n",
       "      <td>Object</td>\n",
       "      <td>Pixabay</td>\n",
       "      <td>4.754902</td>\n",
       "      <td>0.958921</td>\n",
       "      <td>102</td>\n",
       "      <td>2.306931</td>\n",
       "      <td>1.514877</td>\n",
       "      <td>101</td>\n",
       "    </tr>\n",
       "    <tr>\n",
       "      <th>3</th>\n",
       "      <td>I4</td>\n",
       "      <td>Alcohol 1</td>\n",
       "      <td>Object</td>\n",
       "      <td>Pixabay</td>\n",
       "      <td>4.685185</td>\n",
       "      <td>1.189111</td>\n",
       "      <td>108</td>\n",
       "      <td>2.865385</td>\n",
       "      <td>1.695555</td>\n",
       "      <td>104</td>\n",
       "    </tr>\n",
       "    <tr>\n",
       "      <th>4</th>\n",
       "      <td>I5</td>\n",
       "      <td>Alcohol 2</td>\n",
       "      <td>Object</td>\n",
       "      <td>Pixabay</td>\n",
       "      <td>4.250000</td>\n",
       "      <td>1.136686</td>\n",
       "      <td>108</td>\n",
       "      <td>3.000000</td>\n",
       "      <td>1.700942</td>\n",
       "      <td>104</td>\n",
       "    </tr>\n",
       "  </tbody>\n",
       "</table>\n",
       "</div>"
      ],
      "text/plain": [
       "   id      theme category   source  valence_mean  valence_std  valence_n  \\\n",
       "0  I1   Acorns 1   Object  Pixabay      4.686275     0.954203        102   \n",
       "1  I2   Acorns 2   Object  Pixabay      4.519608     0.841150        102   \n",
       "2  I3   Acorns 3   Object  Pixabay      4.754902     0.958921        102   \n",
       "3  I4  Alcohol 1   Object  Pixabay      4.685185     1.189111        108   \n",
       "4  I5  Alcohol 2   Object  Pixabay      4.250000     1.136686        108   \n",
       "\n",
       "   arousal_mean  arousal_std  arousal_n  \n",
       "0      2.346535     1.602720        101  \n",
       "1      2.227723     1.399151        101  \n",
       "2      2.306931     1.514877        101  \n",
       "3      2.865385     1.695555        104  \n",
       "4      3.000000     1.700942        104  "
      ]
     },
     "execution_count": 4,
     "metadata": {},
     "output_type": "execute_result"
    },
    {
     "data": {
      "image/png": "[encoded data removed]",
      "text/plain": [
       "<matplotlib.figure.Figure at 0x7ff7bf533fd0>"
      ]
     },
     "metadata": {},
     "output_type": "display_data"
    }
   ],
   "source": [
    "oasis_csv_path = \"dataset/metadata/OASIS.csv\"\n",
    "\n",
    "imageIdToValence = get_image_id_to_valence_mean(oasis_csv_path)\n",
    "\n",
    "imageIdToValenceNormalized = get_normalized_valence_mean(imageIdToValence)\n",
    "\n",
    "\n",
    "valence_values = list(imageIdToValenceNormalized.values())\n",
    "\n",
    "minValence = min(valence_values)\n",
    "maxValence = max(valence_values)\n",
    "meanValence = np.mean(valence_values)\n",
    "stdValence = np.std(valence_values)\n",
    "print(\"minValence\", minValence,\"maxValence\",maxValence, \"meanValence\",meanValence, stdValence,\"\\n\")\n",
    "\n",
    "labelToCount = {}\n",
    "for imageId in imageIdToValenceNormalized:\n",
    "    label = convert_compound_score_to_label(imageIdToValenceNormalized[imageId])\n",
    "    if label not in labelToCount:\n",
    "        labelToCount[label] = 0\n",
    "    labelToCount[label] += 1\n",
    "\n",
    "print(\"Histogram of positive, negative and neutral images in OASIS\",labelToCount)    \n",
    "\n",
    "#plt.hist(labels, normed=True, bins=3)\n",
    "plt.bar(list(labelToCount.keys()), labelToCount.values())\n",
    "\n",
    "read_oasis_csv_into_dataframe(oasis_csv_path).head()"
   ]
  },
  {
   "cell_type": "markdown",
   "metadata": {},
   "source": [
    "## Conclusion of the experiment"
   ]
  }
 ],
 "metadata": {
  "kernelspec": {
   "display_name": "Python 3",
   "language": "python",
   "name": "python3"
  },
  "language_info": {
   "codemirror_mode": {
    "name": "ipython",
    "version": 3
   },
   "file_extension": ".py",
   "mimetype": "text/x-python",
   "name": "python",
   "nbconvert_exporter": "python",
   "pygments_lexer": "ipython3",
   "version": "3.6.4"
  }
 },
 "nbformat": 4,
 "nbformat_minor": 2
}
