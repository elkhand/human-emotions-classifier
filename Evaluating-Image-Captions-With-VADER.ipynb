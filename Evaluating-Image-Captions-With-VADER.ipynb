{
 "cells": [
  {
   "cell_type": "markdown",
   "metadata": {},
   "source": [
    "# Install VADER package"
   ]
  },
  {
   "cell_type": "code",
   "execution_count": 21,
   "metadata": {},
   "outputs": [
    {
     "name": "stdout",
     "output_type": "stream",
     "text": [
      "Requirement already satisfied: vaderSentiment in /home/elkhand/anaconda3/envs/cs231n/lib/python3.6/site-packages\n",
      "\u001b[33mYou are using pip version 9.0.3, however version 10.0.1 is available.\n",
      "You should consider upgrading via the 'pip install --upgrade pip' command.\u001b[0m\n",
      "[nltk_data] Downloading package vader_lexicon to\n",
      "[nltk_data]     /home/elkhand/nltk_data...\n",
      "[nltk_data]   Package vader_lexicon is already up-to-date!\n",
      "[nltk_data] Downloading package punkt to /home/elkhand/nltk_data...\n",
      "[nltk_data]   Package punkt is already up-to-date!\n"
     ]
    },
    {
     "data": {
      "text/plain": [
       "True"
      ]
     },
     "execution_count": 21,
     "metadata": {},
     "output_type": "execute_result"
    }
   ],
   "source": [
    "!pip install vaderSentiment\n",
    "import nltk\n",
    "nltk.download('vader_lexicon')\n",
    "nltk.download('punkt')"
   ]
  },
  {
   "cell_type": "markdown",
   "metadata": {},
   "source": [
    "## Sample Image captions "
   ]
  },
  {
   "cell_type": "code",
   "execution_count": 5,
   "metadata": {},
   "outputs": [
    {
     "name": "stdout",
     "output_type": "stream",
     "text": [
      "Total sample captions 14\n"
     ]
    }
   ],
   "source": [
    "image_captions=[\"the women are proudly walking in a parade\",\n",
    "               \"instruments of torture in the room and on the walls can inflict pain and suffering\",\n",
    "               \"people being subjugated is not pleasant\",\n",
    "               \"roller coasters are fun\",\n",
    "               \"ape in confinement is looking apprehensive, confining wild animals is bad\",\n",
    "               \"roller coaster tracks disappearing into the snow hint at excitement\",\n",
    "               \"the men look like they are happy with each other and ready to embrace\",\n",
    "               \"A dirty American flag and white shoe, lying in broken wood with plants growing through it.\",\n",
    "               \"Two sled dogs in harness, running across a snowy field.\",\n",
    "               \"A brown dog sitting on a garden path.  His mouth is open and his mottled tongue is hanging out. He has a chain collar around his neck.\",\n",
    "               \"A brown and white beagle wearing a black collar, sitting with its mouth open.\",\n",
    "               \"A short-haired brown dog and a guinea pig, lying side by side on a red couch.\",\n",
    "               \"A dog on a leash with its mouth open, looking alertly towards the camera.\",\n",
    "               \"An enormous mushroom cloud rises from Bikini Atoll.\",\n",
    "               ]\n",
    "print(\"Total sample captions\",len(image_captions))"
   ]
  },
  {
   "cell_type": "code",
   "execution_count": 23,
   "metadata": {},
   "outputs": [
    {
     "name": "stdout",
     "output_type": "stream",
     "text": [
      "the women are proudly walking in a parade\n",
      "compound: 0.0 neg: 0.0 neu: 1.0 pos: 0.0 \n",
      "\n",
      "instruments of torture in the room and on the walls can inflict pain and suffering\n",
      "compound: 0.0 neg: 0.0 neu: 1.0 pos: 0.0 \n",
      "\n",
      "people being subjugated is not pleasant\n",
      "compound: 0.0 neg: 0.0 neu: 1.0 pos: 0.0 \n",
      "\n",
      "roller coasters are fun\n",
      "compound: 0.0 neg: 0.0 neu: 1.0 pos: 0.0 \n",
      "\n",
      "ape in confinement is looking apprehensive, confining wild animals is bad\n",
      "compound: 0.0 neg: 0.0 neu: 1.0 pos: 0.0 \n",
      "\n",
      "roller coaster tracks disappearing into the snow hint at excitement\n",
      "compound: 0.0 neg: 0.0 neu: 1.0 pos: 0.0 \n",
      "\n",
      "the men look like they are happy with each other and ready to embrace\n",
      "compound: 0.0 neg: 0.0 neu: 1.0 pos: 0.0 \n",
      "\n",
      "A dirty American flag and white shoe, lying in broken wood with plants growing through it.\n",
      "compound: 0.0 neg: 0.0 neu: 1.0 pos: 0.0 \n",
      "\n",
      "Two sled dogs in harness, running across a snowy field.\n",
      "compound: 0.0 neg: 0.0 neu: 1.0 pos: 0.0 \n",
      "\n",
      "A brown dog sitting on a garden path.  His mouth is open and his mottled tongue is hanging out. He has a chain collar around his neck.\n",
      "compound: 0.0 neg: 0.0 neu: 1.0 pos: 0.0 \n",
      "\n",
      "A brown and white beagle wearing a black collar, sitting with its mouth open.\n",
      "compound: 0.0 neg: 0.0 neu: 1.0 pos: 0.0 \n",
      "\n",
      "A short-haired brown dog and a guinea pig, lying side by side on a red couch.\n",
      "compound: 0.0 neg: 0.0 neu: 1.0 pos: 0.0 \n",
      "\n",
      "A dog on a leash with its mouth open, looking alertly towards the camera.\n",
      "compound: 0.0 neg: 0.0 neu: 1.0 pos: 0.0 \n",
      "\n",
      "An enormous mushroom cloud rises from Bikini Atoll.\n",
      "compound: 0.0 neg: 0.0 neu: 1.0 pos: 0.0 \n",
      "\n"
     ]
    }
   ],
   "source": [
    "# first, we import the relevant modules from the NLTK library\n",
    "from nltk.sentiment.vader import SentimentIntensityAnalyzer\n",
    "\n",
    "# next, we initialize VADER so we can use it within our Python script\n",
    "sid = SentimentIntensityAnalyzer()\n",
    "\n",
    "\n",
    "def print_polarity_scores(image_captions):\n",
    "    captionToScores = {}\n",
    "    for caption in image_captions:\n",
    "        scores = sid.polarity_scores(caption)\n",
    "        captionToScores[caption] = scores\n",
    "    for caption in captionToScores:\n",
    "        print('{0}'.format(caption))\n",
    "        for key in sorted(scores):\n",
    "            print('{0}: {1} '.format(key, scores[key]), end='')\n",
    "        print(\"\\n\")\n",
    "\n",
    "print_polarity_scores(image_captions)            "
   ]
  }
 ],
 "metadata": {
  "kernelspec": {
   "display_name": "Python 3",
   "language": "python",
   "name": "python3"
  },
  "language_info": {
   "codemirror_mode": {
    "name": "ipython",
    "version": 3
   },
   "file_extension": ".py",
   "mimetype": "text/x-python",
   "name": "python",
   "nbconvert_exporter": "python",
   "pygments_lexer": "ipython3",
   "version": "3.6.4"
  }
 },
 "nbformat": 4,
 "nbformat_minor": 2
}
