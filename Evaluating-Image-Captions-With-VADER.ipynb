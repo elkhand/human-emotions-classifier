{
 "cells": [
  {
   "cell_type": "markdown",
   "metadata": {},
   "source": [
    "# Experiment 1: Classify valence using captions\n",
    "\n",
    "The goal of this experiment is to evaluate the caption feature usefulness in classification.\n",
    "\n",
    "**Baseline model**: Vader system\n",
    "\n",
    "As a baseline model, Vader system will be used to see how good it is in classifying the valence: negative,neutral or positive.\n",
    "\n",
    "\n",
    "## VADER\n",
    "\n",
    "VADER (Valence Aware Dictionary and sEntiment Reasoner) is a lexicon and rule-based sentiment analysis tool that is specifically attuned to sentiments expressed in social media.\n",
    "\n",
    "https://github.com/cjhutto/vaderSentiment\n",
    "\n",
    "http://www.benedekkurdi.com/#oasis\n",
    "\n",
    "\n",
    "The compound score is computed by summing the valence scores of each word in the lexicon, adjusted according to the rules, and then normalized to be between -1 (most extreme negative) and +1 (most extreme positive).\n",
    "\n",
    "Compound score is a 'normalized, weighted composite score' is accurate.\n",
    "\n",
    "VADER system classify given text into 3 categories:\n",
    "    - positive : compound score >=  0.05\n",
    "    - neutral  : -0.05 < compound score < 0.05\n",
    "    - negative : compound score <= -0.05\n",
    "\n",
    "## Install VADER package"
   ]
  },
  {
   "cell_type": "code",
   "execution_count": 1,
   "metadata": {},
   "outputs": [
    {
     "name": "stdout",
     "output_type": "stream",
     "text": [
      "Requirement already satisfied: vaderSentiment in /Users/elkhan.dadashov/anaconda3/envs/cs231n/lib/python3.6/site-packages (3.2.1)\n",
      "\u001b[31mtorchvision 0.2.1 has requirement pillow>=4.1.1, but you'll have pillow 3.0.0 which is incompatible.\u001b[0m\n",
      "Requirement already satisfied: nltk in /Users/elkhan.dadashov/anaconda3/envs/cs231n/lib/python3.6/site-packages (3.2.5)\n",
      "Requirement already satisfied: six in /Users/elkhan.dadashov/anaconda3/envs/cs231n/lib/python3.6/site-packages (from nltk) (1.10.0)\n",
      "\u001b[31mtorchvision 0.2.1 has requirement pillow>=4.1.1, but you'll have pillow 3.0.0 which is incompatible.\u001b[0m\n",
      "[nltk_data] Downloading package stopwords to\n",
      "[nltk_data]     /Users/elkhan.dadashov/nltk_data...\n",
      "[nltk_data]   Package stopwords is already up-to-date!\n",
      "None\n"
     ]
    },
    {
     "name": "stderr",
     "output_type": "stream",
     "text": [
      "/Users/elkhan.dadashov/anaconda3/envs/cs231n/lib/python3.6/site-packages/h5py/__init__.py:36: FutureWarning: Conversion of the second argument of issubdtype from `float` to `np.floating` is deprecated. In future, it will be treated as `np.float64 == np.dtype(float).type`.\n",
      "  from ._conv import register_converters as _register_converters\n",
      "Using TensorFlow backend.\n"
     ]
    }
   ],
   "source": [
    "!pip install vaderSentiment\n",
    "!pip install nltk\n",
    "import nltk\n",
    "nltk.download('stopwords')\n",
    "nltk.data.path.append('~/nltk_data')\n",
    "\n",
    "\n",
    "import hecutils.data_utils as dt\n",
    "import hecutils.scoring_utils as sc\n",
    "import hecutils.plotting_utils as pt\n",
    "import numpy as np\n",
    "import matplotlib.pyplot as plt\n",
    "import pprint\n",
    "pp = pprint.PrettyPrinter(width=41, compact=True)\n",
    "\n",
    "# for auto-reloading external modules\n",
    "# see http://stackoverflow.com/questions/1907993/autoreload-of-modules-in-ipython\n",
    "%load_ext autoreload\n",
    "%autoreload 2"
   ]
  },
  {
   "cell_type": "markdown",
   "metadata": {},
   "source": [
    "## Sample Image captions of OASIS dataset"
   ]
  },
  {
   "cell_type": "code",
   "execution_count": 2,
   "metadata": {},
   "outputs": [
    {
     "name": "stdout",
     "output_type": "stream",
     "text": [
      "Total sample captions 14\n"
     ]
    }
   ],
   "source": [
    "image_captions=[\"the women are proudly walking in a parade.\",\n",
    "               \"instruments of torture in the room and on the walls can inflict pain and suffering.\",\n",
    "               \"people being subjugated is not pleasant.\",\n",
    "               \"roller coasters are fun.\",\n",
    "               \"ape in confinement is looking apprehensive, confining wild animals is bad.\",\n",
    "               \"roller coaster tracks disappearing into the snow hint at excitement.\",\n",
    "               \"the men look like they are happy with each other and ready to embrace.\",\n",
    "               \"A dirty American flag and white shoe, lying in broken wood with plants growing through it.\",\n",
    "               \"Two sled dogs in harness, running across a snowy field.\",\n",
    "               \"A brown dog sitting on a garden path.  His mouth is open and his mottled tongue is hanging out. He has a chain collar around his neck.\",\n",
    "               \"A brown and white beagle wearing a black collar, sitting with its mouth open.\",\n",
    "               \"A short-haired brown dog and a guinea pig, lying side by side on a red couch.\",\n",
    "               \"A dog on a leash with its mouth open, looking alertly towards the camera.\",\n",
    "               \"An enormous mushroom cloud rises from Bikini Atoll.\",\n",
    "               ]\n",
    "\n",
    "unblinded_auto_gen_captions=[\n",
    "    \"a bunch of boats that are sitting in the water.\",\n",
    "    \"a dog is standing in the snow with a frisbee.\",\n",
    "    \"a dog that is standing in the grass with a frisbee.\",\n",
    "    \"a white dog with a frisbee in its mouth.\",\n",
    "    \"a dog is running through the grass with a frisbee in its mouth.\",\n",
    "    \"a dog with a frisbee in its mouth standing in a field.\",\n",
    "    \"a black and white photo of people on a beach.\"\n",
    "]\n",
    "\n",
    "unblinded_human_gen_captions= [\n",
    "   \"A dirty American flag and white shoe, lying in broken wood with plants growing through it.\",\n",
    "    \"Two sled dogs in harness, running across a snowy field.\",\n",
    "    \"A brown dog sitting on a garden path.  His mouth is open and his mottled tongue is hanging out. He has a chain collar around his neck.\",\n",
    "    \"A brown and white beagle wearing a black collar, sitting with its mouth open.\",\n",
    "    \"A short-haired brown dog and a guinea pig, lying side by side on a red couch.\",\n",
    "    \"A dog on a leash with its mouth open, looking alertly towards the camera.\",\n",
    "    \"An enormous mushroom cloud rises from Bikini Atoll.\"\n",
    "    ]\n",
    "\n",
    "print(\"Total sample captions\",len(image_captions))"
   ]
  },
  {
   "cell_type": "markdown",
   "metadata": {},
   "source": [
    "## Evaluate valence scores of sample captions via VADER"
   ]
  },
  {
   "cell_type": "code",
   "execution_count": 3,
   "metadata": {},
   "outputs": [
    {
     "name": "stdout",
     "output_type": "stream",
     "text": [
      "A dirty American flag and white shoe, lying in broken wood with plants growing through it. \n",
      " {'neg': 0.425, 'neu': 0.498, 'pos': 0.077, 'compound': -0.8271} NEGATIVE\n",
      "\n",
      "Two sled dogs in harness, running across a snowy field. \n",
      " {'neg': 0.0, 'neu': 1.0, 'pos': 0.0, 'compound': 0.0} NEUTRAL\n",
      "\n",
      "A brown dog sitting on a garden path.  His mouth is open and his mottled tongue is hanging out. He has a chain collar around his neck. \n",
      " {'neg': 0.0, 'neu': 1.0, 'pos': 0.0, 'compound': 0.0} NEUTRAL\n",
      "\n",
      "A brown and white beagle wearing a black collar, sitting with its mouth open. \n",
      " {'neg': 0.0, 'neu': 1.0, 'pos': 0.0, 'compound': 0.0} NEUTRAL\n",
      "\n",
      "A short-haired brown dog and a guinea pig, lying side by side on a red couch. \n",
      " {'neg': 0.221, 'neu': 0.779, 'pos': 0.0, 'compound': -0.5267} NEGATIVE\n",
      "\n",
      "A dog on a leash with its mouth open, looking alertly towards the camera. \n",
      " {'neg': 0.0, 'neu': 1.0, 'pos': 0.0, 'compound': 0.0} NEUTRAL\n",
      "\n",
      "An enormous mushroom cloud rises from Bikini Atoll. \n",
      " {'neg': 0.0, 'neu': 1.0, 'pos': 0.0, 'compound': 0.0} NEUTRAL\n",
      "\n"
     ]
    },
    {
     "data": {
      "text/plain": [
       "{'A brown and white beagle wearing a black collar, sitting with its mouth open.': 0,\n",
       " 'A brown dog sitting on a garden path.  His mouth is open and his mottled tongue is hanging out. He has a chain collar around his neck.': 0,\n",
       " 'A dirty American flag and white shoe, lying in broken wood with plants growing through it.': -1,\n",
       " 'A dog on a leash with its mouth open, looking alertly towards the camera.': 0,\n",
       " 'A short-haired brown dog and a guinea pig, lying side by side on a red couch.': -1,\n",
       " 'An enormous mushroom cloud rises from Bikini Atoll.': 0,\n",
       " 'Two sled dogs in harness, running across a snowy field.': 0}"
      ]
     },
     "execution_count": 3,
     "metadata": {},
     "output_type": "execute_result"
    }
   ],
   "source": [
    "#print_polarity_scores(image_captions)\n",
    "#print_polarity_scores(unblinded_captions)\n",
    "dt.print_polarity_scores(unblinded_human_gen_captions)"
   ]
  },
  {
   "cell_type": "markdown",
   "metadata": {},
   "source": [
    "## TODO:\n",
    "- read all captions from captions.csv file\n",
    "- read all valence score from OASIS.csv file\n",
    "- run all captions in OASIS dataset into VADER system and compare the valences score from OASIS.csv with compound scores from VADER\n",
    "- print accuracy of the VADER system vs human rating"
   ]
  },
  {
   "cell_type": "markdown",
   "metadata": {},
   "source": [
    "## Read Image Valence scores and label them\n",
    "\n",
    "Valence scores are obtained from OASIS.csv file from the dataset providers, whoobtained valencescores by Mechanical Turkers.\n",
    "\n",
    "Range boundaries:\n",
    "- positive : compound score >  5.0\n",
    "- neutral  : 3.0 < compound score < 5.0\n",
    "- negative : compound score < 3.0"
   ]
  },
  {
   "cell_type": "code",
   "execution_count": 4,
   "metadata": {
    "scrolled": false
   },
   "outputs": [
    {
     "name": "stdout",
     "output_type": "stream",
     "text": [
      "Stats of valence scores\n",
      "-------------------------------- \n",
      "minValence 1.1078431372548998 \n",
      "maxValence 6.49019607843137 \n",
      "meanValence 4.331249062270062 \n",
      "stdValence 1.226900650376635 \n",
      "medianValence 4.5196078431372495 \n",
      "--------------------------------\n",
      "\n",
      "Total images 900\n",
      "labelToCount : OrderedDict([(-1, 163), (0, 420), (1, 317)])\n"
     ]
    },
    {
     "data": {
      "image/png": "[encoded data removed]",
      "text/plain": [
       "<matplotlib.figure.Figure at 0x1a1c91df60>"
      ]
     },
     "metadata": {},
     "output_type": "display_data"
    }
   ],
   "source": [
    "# from utils.scoring_utils import *\n",
    "# from utils.data_utils import *\n",
    "# from utils.plotting_utils import *\n",
    "\n",
    "oasis_csv_path = \"dataset/metadata/OASIS.csv\"\n",
    "neutralLow=3.0\n",
    "neutralHigh=5.0\n",
    "labelToCount, imageIdToLabel, imageIdToValence = pt.image_label_histogram(oasis_csv_path, neutralLow, neutralHigh)"
   ]
  },
  {
   "cell_type": "markdown",
   "metadata": {},
   "source": [
    "# Human generated Captions evaluation\n",
    "\n",
    "F1 is more useful than accuracy, especially in this case when we have an uneven class distribution.\n",
    "\n",
    "- Read captions.csv\n",
    "- Evaluate each caption with VADER\n",
    "- Check accuracy and F1 score of VADER by comparing with true labels"
   ]
  },
  {
   "cell_type": "markdown",
   "metadata": {},
   "source": [
    "## Correct image ids in image captions\n",
    "\n",
    "- Image Ids in captions.csv must match image ids in OASIS.csv\n",
    "- Create correct_captions.csv from captions.csv"
   ]
  },
  {
   "cell_type": "code",
   "execution_count": 5,
   "metadata": {
    "scrolled": true
   },
   "outputs": [],
   "source": [
    "original_wrong_captions_csv_path = \"dataset/metadata/original_wrong_captions.csv\"\n",
    "correct_captions_csv_path = \"dataset/metadata/captions.csv\"\n",
    "dt.correct_captions_csv(original_wrong_captions_csv_path,oasis_csv_path,correct_captions_csv_path,delimeter=\"|\")\n",
    "captions_csv_path = correct_captions_csv_path"
   ]
  },
  {
   "cell_type": "code",
   "execution_count": 15,
   "metadata": {
    "scrolled": false
   },
   "outputs": [
    {
     "name": "stdout",
     "output_type": "stream",
     "text": [
      "Total skipped images 0\n",
      "Total captions:  900\n",
      "labelToCountFromCaptions OrderedDict([(-1, 212), (0, 489), (1, 199)])\n",
      "labelToCount : OrderedDict([(-1, 212), (0, 489), (1, 199)])\n"
     ]
    },
    {
     "data": {
      "image/png": "[encoded data removed]",
      "text/plain": [
       "<matplotlib.figure.Figure at 0x1a25ce5eb8>"
      ]
     },
     "metadata": {},
     "output_type": "display_data"
    },
    {
     "data": {
      "image/png": "[encoded data removed]",
      "text/plain": [
       "<matplotlib.figure.Figure at 0x1a26062358>"
      ]
     },
     "metadata": {},
     "output_type": "display_data"
    },
    {
     "name": "stdout",
     "output_type": "stream",
     "text": [
      "Accuracy and F1 score per each class \n",
      "---------------------------------------\n",
      "{'f1': 0.4552182679663316,\n",
      " 'neg_accuracy': 36.79245283018868,\n",
      " 'neutral_accuracy': 113.67924528301887,\n",
      " 'pos_accuracy': 48.743718592964825,\n",
      " 'total_accuracy': 46.22222222222222}\n",
      "\n",
      "\n",
      "Histogram of Vader scores\n",
      "\n",
      "\n"
     ]
    },
    {
     "data": {
      "text/plain": [
       "Text(0.5,1,'Vader Score Histogram for Human-gen captions')"
      ]
     },
     "execution_count": 15,
     "metadata": {},
     "output_type": "execute_result"
    },
    {
     "data": {
      "image/png": "[encoded data removed]",
      "text/plain": [
       "<matplotlib.figure.Figure at 0x1a2610cf60>"
      ]
     },
     "metadata": {},
     "output_type": "display_data"
    }
   ],
   "source": [
    "captions_csv_path = \"dataset/metadata/captions.csv\"\n",
    "imageIdToCaption = dt.get_image_id_to_caption(captions_csv_path, delimeter=\"|\")\n",
    "#print(imageIdToCaption.keys())\n",
    "\n",
    "imageIdToLabelFromCaptions = dt.label_image_captions_using_vader(imageIdToCaption)\n",
    "#print(\"imageIdToLabelFromCaptions:\\n\",imageIdToLabelFromCaptions)\n",
    "print(\"Total captions: \",len(imageIdToLabelFromCaptions.keys()))\n",
    "labelToCountFromCaptions = pt.get_label_count_from_dict(imageIdToLabelFromCaptions)\n",
    "print(\"labelToCountFromCaptions\",labelToCountFromCaptions)\n",
    "title = 'Labels of OASIS based VADER compound score'\n",
    "pt.plot_histogram(labelToCountFromCaptions, title)\n",
    "titleOfConfusionMatrix = \"Human-gen captions evaluation confusion matrix\"\n",
    "accuracyDict = sc.get_accuracy(imageIdToLabel, imageIdToLabelFromCaptions, titleOfConfusionMatrix)\n",
    "print(\"Accuracy and F1 score per each class\",\"\\n---------------------------------------\")\n",
    "pp.pprint(accuracyDict)\n",
    "\n",
    "print(\"\\n\\nHistogram of Vader scores\\n\\n\")\n",
    "vaderScores = dt.get_vader_compound_scores(imageIdToCaption)\n",
    "fig, ax = plt.subplots(figsize=(10, 6))\n",
    "title = \"Vader Score Histogram for Human-gen captions\"\n",
    "ax.hist(vaderScores)\n",
    "ax.set_ylabel('Count')\n",
    "ax.set_xlabel('Vader score')\n",
    "ax.set_title(title)"
   ]
  },
  {
   "cell_type": "markdown",
   "metadata": {},
   "source": [
    "# Auto-generated evaluation\n",
    "\n",
    "## Show and Tell: A Neural Image Caption Generator\n",
    "\n",
    "\n",
    "A TensorFlow implementation of the image-to-text model described in the paper [1] was used to auto-generate captions for OASIS image dataset.\n",
    "\n",
    "The Show and Tell model is an example of an encoder-decoder neural network. It works by first \"encoding\" an image into a fixed-length vector representation, and then \"decoding\" the representation into a natural language description.\n",
    "\n",
    "The image encoder is a deep convolutional neural network. Choice of network is the Inception v3 [2] image recognition model pretrained on the ImageNet Large Scale Visual Recognition Challenge (ILSVRC-2012-CLS) [3] image classification dataset.\n",
    "\n",
    "The decoder is a long short-term memory (LSTM) network. This type of network is commonly used for sequence modeling tasks such as language modeling and machine translation. In the Show and Tell model, the LSTM network is trained as a language model conditioned on the image encoding.\n",
    "\n",
    "<img src=\"show_and_tell_architecture.png\" style=\"width: 500px;\">\n",
    "\n",
    "[1] \"Show and Tell: Lessons learned from the 2015 MSCOCO Image Captioning Challenge.\", Oriol Vinyals, Alexander Toshev, Samy Bengio, Dumitru Erhan.\n",
    "\n",
    "[2] \"Rethinking the Inception Architecture for Computer Vision\", Christian Szegedy, Vincent Vanhoucke, Sergey Ioffe, Jonathon Shlens, Zbigniew Wojna\n",
    "http://arxiv.org/abs/1512.00567\n",
    "\n",
    "[3] http://www.image-net.org/challenges/LSVRC/2012/\n",
    "\n",
    "im2txt Code: https://github.com/tensorflow/models/tree/master/research/im2txt \n",
    "\n",
    "##  Sample Auto-generated captions\n",
    "\n",
    "\n",
    "| id | image_file   | auto-gen caption| human caption|valence_mean|image|\n",
    "|------|------|------|------|------|------|\n",
    "|I446  | Jail 5.jpg| a train traveling through a lush green forest | Two rows of barbed wire fencing surrounding a prisoner barracks. | 3.06862745098039 |<img src=\"dataset/images/Jail 5.jpg\">|\n",
    "|I434  | Horse 1.jpg| a couple of brown horses standing next to each other | \"Two nuzzling horses, one with a white and brown head and brown mane, the other with a brown head and blonde main, in a grassy field.\"| 5.93518518518519 |<img src=\"dataset/images/Horse 1.jpg\">|\n",
    "|I813  | Sunset 4.jpg| a boat floating on a silver next to a forest | \"A body of water in front of some mountains, with a sunset in the sky above reflecting onto the water.\" | 6.1078431372549 |<img src=\"dataset/images/Sunset 4.jpg\">|\n",
    "|I183  | Couple 1.jpg| a man holding a nintendo wii game controller| A man and a woman kissing with the glare of the sun obscuring their faces. | 5.53921568627451 |<img src=\"dataset/images/Couple 1.jpg\">|\n",
    "|I326  | Fire 9.jpg | a fire hydrant sitting in the middle of a forest | A car engulfed in flames with thick black smoke rising from it.| 1.47058823529412 |<img src=\"dataset/images/Fire 9.jpg\">|\n"
   ]
  },
  {
   "cell_type": "markdown",
   "metadata": {},
   "source": [
    "## Clean and transform auto-generated captions to be in the same format as captions.csv\n",
    "This task will make auto-generated captions to be in the format of\n",
    "\n",
    "(imageId, image title, caption)"
   ]
  },
  {
   "cell_type": "code",
   "execution_count": 18,
   "metadata": {},
   "outputs": [],
   "source": [
    "oasis_csv_path = \"dataset/metadata/OASIS.csv\"\n",
    "auto_generated_caption_input_path = \"dataset/metadata/auto_generated_captions.txt\"\n",
    "auto_generated_caption_output_path = \"dataset/metadata/auto_generated_captions.csv\"\n",
    "dt.clean_auto_generated_captions(auto_generated_caption_input_path, auto_generated_caption_output_path, oasis_csv_path)"
   ]
  },
  {
   "cell_type": "markdown",
   "metadata": {},
   "source": [
    "## Evaluate Auto Generated captions accuracy using VADER system"
   ]
  },
  {
   "cell_type": "code",
   "execution_count": 19,
   "metadata": {
    "scrolled": false
   },
   "outputs": [
    {
     "name": "stdout",
     "output_type": "stream",
     "text": [
      "Total skipped images 0\n",
      "Total Auto generated captions:  900\n",
      "labelToCount : OrderedDict([(-1, 42), (0, 652), (1, 206)])\n"
     ]
    },
    {
     "data": {
      "image/png": "[encoded data removed]",
      "text/plain": [
       "<matplotlib.figure.Figure at 0x1a25cdeef0>"
      ]
     },
     "metadata": {},
     "output_type": "display_data"
    },
    {
     "data": {
      "image/png": "[encoded data removed]",
      "text/plain": [
       "<matplotlib.figure.Figure at 0x1a26974710>"
      ]
     },
     "metadata": {},
     "output_type": "display_data"
    },
    {
     "name": "stdout",
     "output_type": "stream",
     "text": [
      "Accuracy and F1 score per each class \n",
      "---------------------------------------\n",
      "{'f1': 0.3881340053142548,\n",
      " 'neg_accuracy': 33.333333333333336,\n",
      " 'neutral_accuracy': 728.5714285714286,\n",
      " 'pos_accuracy': 34.95145631067961,\n",
      " 'total_accuracy': 43.55555555555556}\n",
      "\n",
      "\n",
      "Histogram of Vader scores\n",
      "\n",
      "\n"
     ]
    },
    {
     "data": {
      "text/plain": [
       "Text(0.5,1,'Vader Score Histogram for Auto-gen captions')"
      ]
     },
     "execution_count": 19,
     "metadata": {},
     "output_type": "execute_result"
    },
    {
     "data": {
      "image/png": "[encoded data removed]",
      "text/plain": [
       "<matplotlib.figure.Figure at 0x1a263aaf28>"
      ]
     },
     "metadata": {},
     "output_type": "display_data"
    }
   ],
   "source": [
    "auto_generated_captions_path = \"dataset/metadata/auto_generated_captions.csv\"\n",
    "# Auto generated captions include comma, thus using '|' as delimeter\n",
    "delimeter=\"|\"\n",
    "imageIdToAutoGenCaption = dt.get_image_id_to_caption(auto_generated_captions_path, delimeter)\n",
    "#print(imageIdToCaption)\n",
    "\n",
    "imageIdToLabelFromAutoGenCaptions = dt.label_image_captions_using_vader(imageIdToAutoGenCaption)\n",
    "print(\"Total Auto generated captions: \",len(imageIdToLabelFromAutoGenCaptions.keys()))\n",
    "\n",
    "labelToCountFromAutoGenCaptions = pt.get_label_count_from_dict(imageIdToLabelFromAutoGenCaptions)\n",
    "\n",
    "title = 'Labels of OASIS based VADER compound score for Auto Gen captions'\n",
    "pt.plot_histogram(labelToCountFromAutoGenCaptions, title)\n",
    "\n",
    "titleOfConfusionMatrix = \"Auto-gen captions evaluation confusion matrix\"\n",
    "accuracyDictAutoGenCaptions = sc.get_accuracy(imageIdToLabel, imageIdToLabelFromAutoGenCaptions, titleOfConfusionMatrix)\n",
    "print(\"Accuracy and F1 score per each class\",\"\\n---------------------------------------\")\n",
    "pp.pprint(accuracyDictAutoGenCaptions)\n",
    "\n",
    "\n",
    "print(\"\\n\\nHistogram of Vader scores\\n\\n\")\n",
    "vaderScores = dt.get_vader_compound_scores(imageIdToAutoGenCaption)\n",
    "fig, ax = plt.subplots(figsize=(10, 6))\n",
    "title = \"Vader Score Histogram for Auto-gen captions\"\n",
    "ax.hist(vaderScores)\n",
    "ax.set_ylabel('Count')\n",
    "ax.set_xlabel('Vader score')\n",
    "ax.set_title(title)"
   ]
  },
  {
   "cell_type": "markdown",
   "metadata": {},
   "source": [
    "## Caption stats"
   ]
  },
  {
   "cell_type": "code",
   "execution_count": null,
   "metadata": {},
   "outputs": [],
   "source": [
    "humanCaptions = imageIdToCaption.values()\n",
    "autoGeneratedCaptions = imageIdToAutoGenCaption.values()\n",
    "humanCaptionsAvgNumberOfWords = dt.calcualte_mean_caption_length(humanCaptions)\n",
    "\n",
    "autoGeneratedCaptionsAvgNumberOfWords = dt.calcualte_mean_caption_length(autoGeneratedCaptions)\n",
    "\n",
    "print(\"Human captions avg word length\", humanCaptionsAvgNumberOfWords)\n",
    "print(\"Auto-generated captions avg word length\", autoGeneratedCaptionsAvgNumberOfWords)"
   ]
  },
  {
   "cell_type": "markdown",
   "metadata": {},
   "source": [
    "## Conclusion of the experiment\n",
    "\n",
    "- True labels were derived based on human valence scores. \n",
    " - labelToCount (-1, 163), (0, 420), (1, 317) based on valence_mean scores\n",
    " - Negative (-1): valence_mean <= 3\n",
    " - Neutral  (0) :    3 < valence_mean < 5\n",
    " - Positive (1) :   5 <= valence_mean\n",
    "\n",
    "- Accuracy of VADER on **human captions** is 46.2%\n",
    " - labelToCount (-1, 212), (0, 489), (1, 199)\n",
    "- Accuracy of VADER on **auto-generated captions** is 43.6% \n",
    " - labelToCount (-1, 42), (0, 652), (1, 206)\n",
    " \n",
    " ### Conclusive results of evaluation of human/auto-generated captions using VADER system \n",
    " - Vader classifies some of the positive images as negative (mainly), and some of positive images as neutral.\n",
    "  - Captions do not include many adjectives, it is harder to extract emotion from the caption text.\n",
    "  - Auto-generated and both human generated captions are towards more to neutral. This is because it is hard to express emotions in 6-12 words caption. The captions are more like describing the objects in the image, rather than expressing the emotion.\n",
    "  - Caption text is short.\n",
    "   - human captions are in avg of 12 words (after removing stop words)\n",
    "   - auto-generated captions are in avg of 6 words (after removing stop words)\n",
    "  - VADER sytem is limited in classification, when the caption does not include bald semantic orientated words as either positive or negative -  lexicon/words and rule-based sentiment analysis is not enough in classifying. Due to this limitation, I'll implement LSTM architecture based and use word2vec vectors ( to intepret word meanings from its context/surrounding words)\n",
    "   - Example caption: \"An enormous mushroom cloud rises from Bikini Atoll. \" \n",
    "     - This is labeled as *neutral* via VADER system. As \"Bikini Atoll\" requires from the computer to know the background about this locaiton and its relatedness to nuclear testing, VADER did not have this prior knowledge, thus classified this caption as neutral.\n",
    "     \n",
    "**As the classes are imbalanced in the OASIS dataset, it would be better to use F1 score for measuring the performance.**\n",
    "\n",
    "**Class distribution in Dataset**:\n",
    "\n",
    "Total examples: 900\n",
    "```\n",
    "labelToCount \n",
    "{\n",
    " negative:  163,\n",
    " neutral:  420,\n",
    " positive: 317\n",
    "}\n",
    "```\n",
    "\n",
    "Added F1 scores for human and auto-generated captions evaluations via VADER:\n",
    "\n",
    "**VADER Performance on Human Captions**:\n",
    "```\n",
    "{'f1_score_neg': 0.416,\n",
    " 'f1_score_neut': 0.5302530253025303,\n",
    " 'f1_score_pos': 0.375968992248062,\n",
    " 'neg_accuracy': 36.79245283018868,\n",
    " 'neutral_accuracy': 113.67924528301887,\n",
    " 'pos_accuracy': 48.743718592964825,\n",
    " 'total_accuracy': 46.22222222222222}\n",
    "```\n",
    "**VADER Performance on Auto-Generated Captions**:\n",
    "```\n",
    "{'f1_score_neg': 0.13658536585365855,\n",
    " 'f1_score_neut': 0.5708955223880597,\n",
    " 'f1_score_pos': 0.27533460803059273,\n",
    " 'neg_accuracy': 33.333333333333336,\n",
    " 'neutral_accuracy': 728.5714285714286,\n",
    " 'pos_accuracy': 34.95145631067961,\n",
    " 'total_accuracy': 43.55555555555556}\n",
    " ```"
   ]
  },
  {
   "cell_type": "markdown",
   "metadata": {},
   "source": [
    "## Next TODO\n",
    "\n",
    "- Find publicly available sentiment corpus and word vectors (word2vec) trained on this sentiment corpus\n",
    "- Build LSTM-based sequence-sequence neural network (NN), where each word will be represented via word2vec.\n",
    "- Classify human generated captions via NN\n",
    "- Classify auto-generated captions via NN"
   ]
  },
  {
   "cell_type": "code",
   "execution_count": null,
   "metadata": {},
   "outputs": [],
   "source": [
    "# Temp code\n",
    "pp.pprint(accuracyDictAutoGenCaptions)\n",
    "\n",
    "from sklearn.metrics import f1_score\n",
    "# y_true = [0, 1, 2, 0, 1, 2]\n",
    "# #y_pred = [0, 2, 1, 0, 0, 1]\n",
    "# y_pred = [0, 2, 2, 0, 0, 1]\n",
    "# f1_score(y_true, y_pred, average=None)\n",
    "\n",
    "y_true = [0, -1, 1, 0, -1, 1]\n",
    "y_pred = [0, 1, -1, 0, 0, -1]\n",
    "print(f1_score(y_true, y_pred, average=None))\n",
    "\n",
    "y_pred = [0, 1, -1, 0, -1, -1]\n",
    "print(f1_score(y_true, y_pred, average=None))"
   ]
  }
 ],
 "metadata": {
  "kernelspec": {
   "display_name": "Python 3",
   "language": "python",
   "name": "python3"
  },
  "language_info": {
   "codemirror_mode": {
    "name": "ipython",
    "version": 3
   },
   "file_extension": ".py",
   "mimetype": "text/x-python",
   "name": "python",
   "nbconvert_exporter": "python",
   "pygments_lexer": "ipython3",
   "version": "3.6.8"
  }
 },
 "nbformat": 4,
 "nbformat_minor": 2
}
