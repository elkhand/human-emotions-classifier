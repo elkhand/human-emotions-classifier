{
 "cells": [
  {
   "cell_type": "markdown",
   "metadata": {},
   "source": [
    "# Applying Transfer Learningof resnet18 Into OASIS Dataset"
   ]
  },
  {
   "cell_type": "markdown",
   "metadata": {},
   "source": [
    "## Divide Dataset into these categories\n",
    "\n",
    "We have total 900 images in OASIS dataset.\n",
    "\n",
    "- train\n",
    " - negative\n",
    " - neutral\n",
    " - positive\n",
    "- val \n",
    " - negative\n",
    " - neutral\n",
    " - positive\n",
    "    \n",
    "### Dataset Exploration\n",
    "\n",
    "- if each category boundary is set to be 2.0 and 4.0 valence score, then we will have:\n",
    " - labelToCount: (-1, 37), (0, 270), (1, 593)\n",
    "-  each category boundary is set to be 3.0 and 5.0 valence score, then we will have:\n",
    " - labelToCount (-1, 163), (0, 420), (1, 317)\n",
    "\n"
   ]
  },
  {
   "cell_type": "code",
   "execution_count": 1,
   "metadata": {
    "scrolled": false
   },
   "outputs": [
    {
     "name": "stdout",
     "output_type": "stream",
     "text": [
      "None\n"
     ]
    },
    {
     "ename": "NameError",
     "evalue": "name 'get_image_id_to_image_title' is not defined",
     "output_type": "error",
     "traceback": [
      "\u001b[0;31m---------------------------------------------------------------------------\u001b[0m",
      "\u001b[0;31mNameError\u001b[0m                                 Traceback (most recent call last)",
      "\u001b[0;32m<ipython-input-1-41f92628d0e2>\u001b[0m in \u001b[0;36m<module>\u001b[0;34m()\u001b[0m\n\u001b[1;32m     17\u001b[0m \u001b[0moasis_csv_path\u001b[0m \u001b[0;34m=\u001b[0m \u001b[0;34m\"dataset/metadata/OASIS.csv\"\u001b[0m\u001b[0;34m\u001b[0m\u001b[0m\n\u001b[1;32m     18\u001b[0m \u001b[0;34m\u001b[0m\u001b[0m\n\u001b[0;32m---> 19\u001b[0;31m \u001b[0mimageIdToImageTitle\u001b[0m \u001b[0;34m=\u001b[0m \u001b[0mget_image_id_to_image_title\u001b[0m\u001b[0;34m(\u001b[0m\u001b[0moasis_csv_path\u001b[0m\u001b[0;34m)\u001b[0m\u001b[0;34m\u001b[0m\u001b[0m\n\u001b[0m\u001b[1;32m     20\u001b[0m \u001b[0;34m\u001b[0m\u001b[0m\n\u001b[1;32m     21\u001b[0m \u001b[0mneutralLow\u001b[0m\u001b[0;34m=\u001b[0m\u001b[0;36m2.0\u001b[0m\u001b[0;34m\u001b[0m\u001b[0m\n",
      "\u001b[0;31mNameError\u001b[0m: name 'get_image_id_to_image_title' is not defined"
     ]
    }
   ],
   "source": [
    "import hecutils.data_utils as dt\n",
    "import hecutils.scoring_utils as sc\n",
    "import hecutils.plotting_utils as pt\n",
    "import numpy as np\n",
    "import matplotlib.pyplot as plt\n",
    "import pprint\n",
    "from matplotlib.pyplot import imshow\n",
    "from PIL import Image\n",
    "%matplotlib inline\n",
    "# for auto-reloading external modules\n",
    "# see http://stackoverflow.com/questions/1907993/autoreload-of-modules-in-ipython\n",
    "%load_ext autoreload\n",
    "%autoreload 2\n",
    "\n",
    "pp = pprint.PrettyPrinter(width=41, compact=True)\n",
    "\n",
    "oasis_csv_path = \"dataset/metadata/OASIS.csv\"\n",
    "\n",
    "imageIdToImageTitle = dt.get_image_id_to_image_title(oasis_csv_path)\n",
    "\n",
    "neutralLow=2.0\n",
    "neutralHigh=4.0\n",
    "labelToCount, imageIdToLabel, imageIdToValence = pt.image_label_histogram(oasis_csv_path, neutralLow, neutralHigh)\n",
    "  \n",
    "\n",
    "neutralLow=3.0\n",
    "neutralHigh=5.0\n",
    "labelToCount, imageIdToLabel, imageIdToValence = pt.image_label_histogram(oasis_csv_path, neutralLow, neutralHigh)"
   ]
  },
  {
   "cell_type": "markdown",
   "metadata": {},
   "source": [
    "## Explore Negative valence Images to find out better boundary\n",
    "\n",
    "### Conclusion\n",
    "It seems 3.0 seems better boundary for negative images, instead of 3.\n",
    "\n",
    "So our boundary for negative images will be **<3**"
   ]
  },
  {
   "cell_type": "code",
   "execution_count": null,
   "metadata": {
    "scrolled": true
   },
   "outputs": [],
   "source": [
    "oasis_images_root_path = 'dataset/images/'\n",
    "\n",
    "pathToImages= []\n",
    "titleList= []\n",
    "neutralLow1=2.0\n",
    "neutralLow2=3.0\n",
    "\n",
    "for imageId,valence in imageIdToValence.items():\n",
    "    if valence > neutralLow1 and valence < neutralLow2 :\n",
    "        title = (imageId, round(valence,2))\n",
    "        imageName = oasis_images_root_path + imageIdToImageTitle[imageId] +\".jpg\"\n",
    "        titleList.append(title)\n",
    "        pathToImages.append(imageName)\n",
    "\n",
    "print(\"Total images in the range(\",neutralLow1,\",\",neutralLow2,\")\",len(pathToImages))\n",
    "pt.grid_display(pathToImages,titleList,no_of_columns=5,figsize=(15,12))        "
   ]
  },
  {
   "cell_type": "markdown",
   "metadata": {},
   "source": [
    "## Explore Positive valence Images to find out better boundary\n",
    "\n",
    "### Conclusion\n",
    "It seems 5.0 seems better boundary for positive images, instead of 4.\n",
    "\n",
    "So our boundary for negative images will be **>5**"
   ]
  },
  {
   "cell_type": "code",
   "execution_count": null,
   "metadata": {
    "scrolled": false
   },
   "outputs": [],
   "source": [
    "\n",
    "\n",
    "oasis_images_root_path = 'dataset/images/'\n",
    "\n",
    "pathToImages= []\n",
    "titleList= []\n",
    "neutralLow1=4.0\n",
    "neutralLow2=5.0\n",
    "# neutralLow1=5.0\n",
    "# neutralLow2=7.0\n",
    "\n",
    "for imageId,valence in imageIdToValence.items():\n",
    "    if valence > neutralLow1 and valence < neutralLow2 :\n",
    "        title = (imageId, round(valence,2))\n",
    "        imageName = oasis_images_root_path + imageIdToImageTitle[imageId] +\".jpg\"\n",
    "        titleList.append(title)\n",
    "        pathToImages.append(imageName)\n",
    "\n",
    "print(\"Total images in the range(\",neutralLow1,\",\",neutralLow2,\")\",len(pathToImages))\n",
    "pt.grid_display(pathToImages,titleList,no_of_columns=5,figsize=(15,12))        "
   ]
  }
 ],
 "metadata": {
  "kernelspec": {
   "display_name": "Python 3",
   "language": "python",
   "name": "python3"
  },
  "language_info": {
   "codemirror_mode": {
    "name": "ipython",
    "version": 3
   },
   "file_extension": ".py",
   "mimetype": "text/x-python",
   "name": "python",
   "nbconvert_exporter": "python",
   "pygments_lexer": "ipython3",
   "version": "3.6.4"
  }
 },
 "nbformat": 4,
 "nbformat_minor": 2
}
